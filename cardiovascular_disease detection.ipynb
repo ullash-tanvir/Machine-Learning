{
 "cells": [
  {
   "cell_type": "code",
   "execution_count": 1,
   "metadata": {},
   "outputs": [],
   "source": [
    "import pandas as pd\n",
    "import numpy as np\n",
    "import matplotlib.pyplot as plt\n",
    "import seaborn as sns"
   ]
  },
  {
   "cell_type": "code",
   "execution_count": 75,
   "metadata": {},
   "outputs": [],
   "source": [
    "pd.set_option('Display.max_columns',None)\n",
    "data=pd.read_csv('/Users/tanvirislamullash/Downloads/CardioVascularDisease/cardio_train.csv',sep=';')"
   ]
  },
  {
   "cell_type": "code",
   "execution_count": 76,
   "metadata": {},
   "outputs": [
    {
     "data": {
      "text/html": [
       "<div>\n",
       "<style scoped>\n",
       "    .dataframe tbody tr th:only-of-type {\n",
       "        vertical-align: middle;\n",
       "    }\n",
       "\n",
       "    .dataframe tbody tr th {\n",
       "        vertical-align: top;\n",
       "    }\n",
       "\n",
       "    .dataframe thead th {\n",
       "        text-align: right;\n",
       "    }\n",
       "</style>\n",
       "<table border=\"1\" class=\"dataframe\">\n",
       "  <thead>\n",
       "    <tr style=\"text-align: right;\">\n",
       "      <th></th>\n",
       "      <th>id</th>\n",
       "      <th>age</th>\n",
       "      <th>gender</th>\n",
       "      <th>height</th>\n",
       "      <th>weight</th>\n",
       "      <th>ap_hi</th>\n",
       "      <th>ap_lo</th>\n",
       "      <th>cholesterol</th>\n",
       "      <th>gluc</th>\n",
       "      <th>smoke</th>\n",
       "      <th>alco</th>\n",
       "      <th>active</th>\n",
       "      <th>cardio</th>\n",
       "    </tr>\n",
       "  </thead>\n",
       "  <tbody>\n",
       "    <tr>\n",
       "      <td>0</td>\n",
       "      <td>988</td>\n",
       "      <td>22469</td>\n",
       "      <td>1</td>\n",
       "      <td>155</td>\n",
       "      <td>69.0</td>\n",
       "      <td>130</td>\n",
       "      <td>80</td>\n",
       "      <td>2</td>\n",
       "      <td>2</td>\n",
       "      <td>0</td>\n",
       "      <td>0</td>\n",
       "      <td>1</td>\n",
       "      <td>0</td>\n",
       "    </tr>\n",
       "    <tr>\n",
       "      <td>1</td>\n",
       "      <td>989</td>\n",
       "      <td>14648</td>\n",
       "      <td>1</td>\n",
       "      <td>163</td>\n",
       "      <td>71.0</td>\n",
       "      <td>110</td>\n",
       "      <td>70</td>\n",
       "      <td>1</td>\n",
       "      <td>1</td>\n",
       "      <td>0</td>\n",
       "      <td>0</td>\n",
       "      <td>1</td>\n",
       "      <td>1</td>\n",
       "    </tr>\n",
       "    <tr>\n",
       "      <td>2</td>\n",
       "      <td>990</td>\n",
       "      <td>21901</td>\n",
       "      <td>1</td>\n",
       "      <td>165</td>\n",
       "      <td>70.0</td>\n",
       "      <td>120</td>\n",
       "      <td>80</td>\n",
       "      <td>1</td>\n",
       "      <td>1</td>\n",
       "      <td>0</td>\n",
       "      <td>0</td>\n",
       "      <td>1</td>\n",
       "      <td>0</td>\n",
       "    </tr>\n",
       "    <tr>\n",
       "      <td>3</td>\n",
       "      <td>991</td>\n",
       "      <td>14549</td>\n",
       "      <td>2</td>\n",
       "      <td>165</td>\n",
       "      <td>85.0</td>\n",
       "      <td>120</td>\n",
       "      <td>80</td>\n",
       "      <td>1</td>\n",
       "      <td>1</td>\n",
       "      <td>1</td>\n",
       "      <td>1</td>\n",
       "      <td>1</td>\n",
       "      <td>0</td>\n",
       "    </tr>\n",
       "    <tr>\n",
       "      <td>4</td>\n",
       "      <td>992</td>\n",
       "      <td>23393</td>\n",
       "      <td>1</td>\n",
       "      <td>155</td>\n",
       "      <td>62.0</td>\n",
       "      <td>120</td>\n",
       "      <td>80</td>\n",
       "      <td>1</td>\n",
       "      <td>1</td>\n",
       "      <td>0</td>\n",
       "      <td>0</td>\n",
       "      <td>1</td>\n",
       "      <td>0</td>\n",
       "    </tr>\n",
       "  </tbody>\n",
       "</table>\n",
       "</div>"
      ],
      "text/plain": [
       "    id    age  gender  height  weight  ap_hi  ap_lo  cholesterol  gluc  smoke  \\\n",
       "0  988  22469       1     155    69.0    130     80            2     2      0   \n",
       "1  989  14648       1     163    71.0    110     70            1     1      0   \n",
       "2  990  21901       1     165    70.0    120     80            1     1      0   \n",
       "3  991  14549       2     165    85.0    120     80            1     1      1   \n",
       "4  992  23393       1     155    62.0    120     80            1     1      0   \n",
       "\n",
       "   alco  active  cardio  \n",
       "0     0       1       0  \n",
       "1     0       1       1  \n",
       "2     0       1       0  \n",
       "3     1       1       0  \n",
       "4     0       1       0  "
      ]
     },
     "execution_count": 76,
     "metadata": {},
     "output_type": "execute_result"
    }
   ],
   "source": [
    "data.head()"
   ]
  },
  {
   "cell_type": "code",
   "execution_count": 110,
   "metadata": {},
   "outputs": [
    {
     "data": {
      "text/plain": [
       "array([0, 1])"
      ]
     },
     "execution_count": 110,
     "metadata": {},
     "output_type": "execute_result"
    }
   ],
   "source": [
    "data.cardio.unique()"
   ]
  },
  {
   "cell_type": "code",
   "execution_count": 114,
   "metadata": {},
   "outputs": [
    {
     "data": {
      "text/plain": [
       "<matplotlib.axes._subplots.AxesSubplot at 0x1a26124190>"
      ]
     },
     "execution_count": 114,
     "metadata": {},
     "output_type": "execute_result"
    },
    {
     "data": {
      "image/png": "[encoded data removed]",
      "text/plain": [
       "<Figure size 432x288 with 1 Axes>"
      ]
     },
     "metadata": {
      "needs_background": "light"
     },
     "output_type": "display_data"
    }
   ],
   "source": [
    "data.groupby(['cardio']).cardio.count().plot.bar()"
   ]
  },
  {
   "cell_type": "code",
   "execution_count": 79,
   "metadata": {},
   "outputs": [],
   "source": [
    "def rename(data):\n",
    "    data.rename(columns={'ap_hi': 'systolic', 'ap_lo': 'diastolic', 'gluc': 'glucose', \n",
    "                   'alco': 'alcohol'}, inplace=True)\n",
    "    return data"
   ]
  },
  {
   "cell_type": "code",
   "execution_count": 80,
   "metadata": {},
   "outputs": [],
   "source": [
    "data=rename(data)"
   ]
  },
  {
   "cell_type": "code",
   "execution_count": 81,
   "metadata": {},
   "outputs": [],
   "source": [
    "def col_map(data,column):\n",
    "    data[column]=data[column]%2\n",
    "    return data\n",
    "data=col_map(data,'gender')"
   ]
  },
  {
   "cell_type": "code",
   "execution_count": 82,
   "metadata": {},
   "outputs": [
    {
     "data": {
      "text/plain": [
       "array([1, 0])"
      ]
     },
     "execution_count": 82,
     "metadata": {},
     "output_type": "execute_result"
    }
   ],
   "source": [
    "data.gender.unique()"
   ]
  },
  {
   "cell_type": "code",
   "execution_count": 83,
   "metadata": {},
   "outputs": [],
   "source": [
    "# 0 --> Male , 1 --> Female\n",
    "data['gender']=data['gender']%2"
   ]
  },
  {
   "cell_type": "code",
   "execution_count": 84,
   "metadata": {},
   "outputs": [
    {
     "data": {
      "text/plain": [
       "Index(['id', 'age', 'gender', 'height', 'weight', 'systolic', 'diastolic',\n",
       "       'cholesterol', 'glucose', 'smoke', 'alcohol', 'active', 'cardio'],\n",
       "      dtype='object')"
      ]
     },
     "execution_count": 84,
     "metadata": {},
     "output_type": "execute_result"
    }
   ],
   "source": [
    "data.columns"
   ]
  },
  {
   "cell_type": "code",
   "execution_count": 85,
   "metadata": {},
   "outputs": [
    {
     "data": {
      "text/html": [
       "<div>\n",
       "<style scoped>\n",
       "    .dataframe tbody tr th:only-of-type {\n",
       "        vertical-align: middle;\n",
       "    }\n",
       "\n",
       "    .dataframe tbody tr th {\n",
       "        vertical-align: top;\n",
       "    }\n",
       "\n",
       "    .dataframe thead th {\n",
       "        text-align: right;\n",
       "    }\n",
       "</style>\n",
       "<table border=\"1\" class=\"dataframe\">\n",
       "  <thead>\n",
       "    <tr style=\"text-align: right;\">\n",
       "      <th></th>\n",
       "      <th>id</th>\n",
       "      <th>age</th>\n",
       "      <th>gender</th>\n",
       "      <th>height</th>\n",
       "      <th>weight</th>\n",
       "      <th>systolic</th>\n",
       "      <th>diastolic</th>\n",
       "      <th>cholesterol</th>\n",
       "      <th>glucose</th>\n",
       "      <th>smoke</th>\n",
       "      <th>alcohol</th>\n",
       "      <th>active</th>\n",
       "      <th>cardio</th>\n",
       "    </tr>\n",
       "  </thead>\n",
       "  <tbody>\n",
       "    <tr>\n",
       "      <td>count</td>\n",
       "      <td>69301.000000</td>\n",
       "      <td>69301.000000</td>\n",
       "      <td>69301.000000</td>\n",
       "      <td>69301.000000</td>\n",
       "      <td>69301.000000</td>\n",
       "      <td>69301.000000</td>\n",
       "      <td>69301.000000</td>\n",
       "      <td>69301.000000</td>\n",
       "      <td>69301.000000</td>\n",
       "      <td>69301.000000</td>\n",
       "      <td>69301.000000</td>\n",
       "      <td>69301.000000</td>\n",
       "      <td>69301.000000</td>\n",
       "    </tr>\n",
       "    <tr>\n",
       "      <td>mean</td>\n",
       "      <td>50471.480397</td>\n",
       "      <td>19468.786280</td>\n",
       "      <td>0.650481</td>\n",
       "      <td>164.362217</td>\n",
       "      <td>74.203027</td>\n",
       "      <td>128.829584</td>\n",
       "      <td>96.650092</td>\n",
       "      <td>1.366806</td>\n",
       "      <td>1.226447</td>\n",
       "      <td>0.088051</td>\n",
       "      <td>0.053881</td>\n",
       "      <td>0.803986</td>\n",
       "      <td>0.499589</td>\n",
       "    </tr>\n",
       "    <tr>\n",
       "      <td>std</td>\n",
       "      <td>28563.100347</td>\n",
       "      <td>2467.261818</td>\n",
       "      <td>0.476821</td>\n",
       "      <td>8.205337</td>\n",
       "      <td>14.383469</td>\n",
       "      <td>154.775805</td>\n",
       "      <td>189.096240</td>\n",
       "      <td>0.680270</td>\n",
       "      <td>0.572246</td>\n",
       "      <td>0.283371</td>\n",
       "      <td>0.225784</td>\n",
       "      <td>0.396982</td>\n",
       "      <td>0.500003</td>\n",
       "    </tr>\n",
       "    <tr>\n",
       "      <td>min</td>\n",
       "      <td>988.000000</td>\n",
       "      <td>10798.000000</td>\n",
       "      <td>0.000000</td>\n",
       "      <td>55.000000</td>\n",
       "      <td>10.000000</td>\n",
       "      <td>-150.000000</td>\n",
       "      <td>-70.000000</td>\n",
       "      <td>1.000000</td>\n",
       "      <td>1.000000</td>\n",
       "      <td>0.000000</td>\n",
       "      <td>0.000000</td>\n",
       "      <td>0.000000</td>\n",
       "      <td>0.000000</td>\n",
       "    </tr>\n",
       "    <tr>\n",
       "      <td>25%</td>\n",
       "      <td>25745.000000</td>\n",
       "      <td>17664.000000</td>\n",
       "      <td>0.000000</td>\n",
       "      <td>159.000000</td>\n",
       "      <td>65.000000</td>\n",
       "      <td>120.000000</td>\n",
       "      <td>80.000000</td>\n",
       "      <td>1.000000</td>\n",
       "      <td>1.000000</td>\n",
       "      <td>0.000000</td>\n",
       "      <td>0.000000</td>\n",
       "      <td>1.000000</td>\n",
       "      <td>0.000000</td>\n",
       "    </tr>\n",
       "    <tr>\n",
       "      <td>50%</td>\n",
       "      <td>50494.000000</td>\n",
       "      <td>19704.000000</td>\n",
       "      <td>1.000000</td>\n",
       "      <td>165.000000</td>\n",
       "      <td>72.000000</td>\n",
       "      <td>120.000000</td>\n",
       "      <td>80.000000</td>\n",
       "      <td>1.000000</td>\n",
       "      <td>1.000000</td>\n",
       "      <td>0.000000</td>\n",
       "      <td>0.000000</td>\n",
       "      <td>1.000000</td>\n",
       "      <td>0.000000</td>\n",
       "    </tr>\n",
       "    <tr>\n",
       "      <td>75%</td>\n",
       "      <td>75150.000000</td>\n",
       "      <td>21326.000000</td>\n",
       "      <td>1.000000</td>\n",
       "      <td>170.000000</td>\n",
       "      <td>82.000000</td>\n",
       "      <td>140.000000</td>\n",
       "      <td>90.000000</td>\n",
       "      <td>2.000000</td>\n",
       "      <td>1.000000</td>\n",
       "      <td>0.000000</td>\n",
       "      <td>0.000000</td>\n",
       "      <td>1.000000</td>\n",
       "      <td>1.000000</td>\n",
       "    </tr>\n",
       "    <tr>\n",
       "      <td>max</td>\n",
       "      <td>99999.000000</td>\n",
       "      <td>23713.000000</td>\n",
       "      <td>1.000000</td>\n",
       "      <td>250.000000</td>\n",
       "      <td>200.000000</td>\n",
       "      <td>16020.000000</td>\n",
       "      <td>11000.000000</td>\n",
       "      <td>3.000000</td>\n",
       "      <td>3.000000</td>\n",
       "      <td>1.000000</td>\n",
       "      <td>1.000000</td>\n",
       "      <td>1.000000</td>\n",
       "      <td>1.000000</td>\n",
       "    </tr>\n",
       "  </tbody>\n",
       "</table>\n",
       "</div>"
      ],
      "text/plain": [
       "                 id           age        gender        height        weight  \\\n",
       "count  69301.000000  69301.000000  69301.000000  69301.000000  69301.000000   \n",
       "mean   50471.480397  19468.786280      0.650481    164.362217     74.203027   \n",
       "std    28563.100347   2467.261818      0.476821      8.205337     14.383469   \n",
       "min      988.000000  10798.000000      0.000000     55.000000     10.000000   \n",
       "25%    25745.000000  17664.000000      0.000000    159.000000     65.000000   \n",
       "50%    50494.000000  19704.000000      1.000000    165.000000     72.000000   \n",
       "75%    75150.000000  21326.000000      1.000000    170.000000     82.000000   \n",
       "max    99999.000000  23713.000000      1.000000    250.000000    200.000000   \n",
       "\n",
       "           systolic     diastolic   cholesterol       glucose         smoke  \\\n",
       "count  69301.000000  69301.000000  69301.000000  69301.000000  69301.000000   \n",
       "mean     128.829584     96.650092      1.366806      1.226447      0.088051   \n",
       "std      154.775805    189.096240      0.680270      0.572246      0.283371   \n",
       "min     -150.000000    -70.000000      1.000000      1.000000      0.000000   \n",
       "25%      120.000000     80.000000      1.000000      1.000000      0.000000   \n",
       "50%      120.000000     80.000000      1.000000      1.000000      0.000000   \n",
       "75%      140.000000     90.000000      2.000000      1.000000      0.000000   \n",
       "max    16020.000000  11000.000000      3.000000      3.000000      1.000000   \n",
       "\n",
       "            alcohol        active        cardio  \n",
       "count  69301.000000  69301.000000  69301.000000  \n",
       "mean       0.053881      0.803986      0.499589  \n",
       "std        0.225784      0.396982      0.500003  \n",
       "min        0.000000      0.000000      0.000000  \n",
       "25%        0.000000      1.000000      0.000000  \n",
       "50%        0.000000      1.000000      0.000000  \n",
       "75%        0.000000      1.000000      1.000000  \n",
       "max        1.000000      1.000000      1.000000  "
      ]
     },
     "execution_count": 85,
     "metadata": {},
     "output_type": "execute_result"
    }
   ],
   "source": [
    "data.describe()"
   ]
  },
  {
   "cell_type": "code",
   "execution_count": 72,
   "metadata": {},
   "outputs": [
    {
     "data": {
      "text/plain": [
       "<matplotlib.axes._subplots.AxesSubplot at 0x1a1f0a2350>"
      ]
     },
     "execution_count": 72,
     "metadata": {},
     "output_type": "execute_result"
    },
    {
     "data": {
      "image/png": "[encoded data removed]",
      "text/plain": [
       "<Figure size 864x360 with 2 Axes>"
      ]
     },
     "metadata": {
      "needs_background": "light"
     },
     "output_type": "display_data"
    }
   ],
   "source": [
    "plt.figure(figsize=(12,5))\n",
    "plt.subplot(1,2,1)\n",
    "sns.boxplot(x='cardio',y='height',data=data,palette='winter')\n",
    "plt.subplot(1,2,2)\n",
    "sns.boxplot(x='cardio',y='weight',data=data,palette='summer')\n"
   ]
  },
  {
   "cell_type": "code",
   "execution_count": 99,
   "metadata": {},
   "outputs": [
    {
     "data": {
      "text/plain": [
       "<matplotlib.axes._subplots.AxesSubplot at 0x1a267fed50>"
      ]
     },
     "execution_count": 99,
     "metadata": {},
     "output_type": "execute_result"
    },
    {
     "data": {
      "image/png": "[encoded data removed]",
      "text/plain": [
       "<Figure size 864x360 with 2 Axes>"
      ]
     },
     "metadata": {
      "needs_background": "light"
     },
     "output_type": "display_data"
    }
   ],
   "source": [
    "plt.figure(figsize=(12,5))\n",
    "plt.subplot(1,2,1)\n",
    "sns.boxplot(x='cardio',y='systolic',data=data,palette='winter')\n",
    "plt.subplot(1,2,2)\n",
    "sns.boxplot(x='cardio',y='diastolic',data=data,palette='summer')"
   ]
  },
  {
   "cell_type": "code",
   "execution_count": 86,
   "metadata": {},
   "outputs": [],
   "source": [
    "def trans_bmi(data,column):\n",
    "    data[column]=data[column]*0.01\n",
    "    data['bmi']=data['weight']/data[column]**2\n",
    "    return data\n",
    "data=trans_bmi(data,'height')"
   ]
  },
  {
   "cell_type": "code",
   "execution_count": 87,
   "metadata": {},
   "outputs": [
    {
     "data": {
      "text/html": [
       "<div>\n",
       "<style scoped>\n",
       "    .dataframe tbody tr th:only-of-type {\n",
       "        vertical-align: middle;\n",
       "    }\n",
       "\n",
       "    .dataframe tbody tr th {\n",
       "        vertical-align: top;\n",
       "    }\n",
       "\n",
       "    .dataframe thead th {\n",
       "        text-align: right;\n",
       "    }\n",
       "</style>\n",
       "<table border=\"1\" class=\"dataframe\">\n",
       "  <thead>\n",
       "    <tr style=\"text-align: right;\">\n",
       "      <th></th>\n",
       "      <th>id</th>\n",
       "      <th>age</th>\n",
       "      <th>gender</th>\n",
       "      <th>height</th>\n",
       "      <th>weight</th>\n",
       "      <th>systolic</th>\n",
       "      <th>diastolic</th>\n",
       "      <th>cholesterol</th>\n",
       "      <th>glucose</th>\n",
       "      <th>smoke</th>\n",
       "      <th>alcohol</th>\n",
       "      <th>active</th>\n",
       "      <th>cardio</th>\n",
       "      <th>bmi</th>\n",
       "    </tr>\n",
       "  </thead>\n",
       "  <tbody>\n",
       "    <tr>\n",
       "      <td>0</td>\n",
       "      <td>988</td>\n",
       "      <td>22469</td>\n",
       "      <td>1</td>\n",
       "      <td>1.55</td>\n",
       "      <td>69.0</td>\n",
       "      <td>130</td>\n",
       "      <td>80</td>\n",
       "      <td>2</td>\n",
       "      <td>2</td>\n",
       "      <td>0</td>\n",
       "      <td>0</td>\n",
       "      <td>1</td>\n",
       "      <td>0</td>\n",
       "      <td>28.720083</td>\n",
       "    </tr>\n",
       "    <tr>\n",
       "      <td>1</td>\n",
       "      <td>989</td>\n",
       "      <td>14648</td>\n",
       "      <td>1</td>\n",
       "      <td>1.63</td>\n",
       "      <td>71.0</td>\n",
       "      <td>110</td>\n",
       "      <td>70</td>\n",
       "      <td>1</td>\n",
       "      <td>1</td>\n",
       "      <td>0</td>\n",
       "      <td>0</td>\n",
       "      <td>1</td>\n",
       "      <td>1</td>\n",
       "      <td>26.722873</td>\n",
       "    </tr>\n",
       "    <tr>\n",
       "      <td>2</td>\n",
       "      <td>990</td>\n",
       "      <td>21901</td>\n",
       "      <td>1</td>\n",
       "      <td>1.65</td>\n",
       "      <td>70.0</td>\n",
       "      <td>120</td>\n",
       "      <td>80</td>\n",
       "      <td>1</td>\n",
       "      <td>1</td>\n",
       "      <td>0</td>\n",
       "      <td>0</td>\n",
       "      <td>1</td>\n",
       "      <td>0</td>\n",
       "      <td>25.711662</td>\n",
       "    </tr>\n",
       "    <tr>\n",
       "      <td>3</td>\n",
       "      <td>991</td>\n",
       "      <td>14549</td>\n",
       "      <td>0</td>\n",
       "      <td>1.65</td>\n",
       "      <td>85.0</td>\n",
       "      <td>120</td>\n",
       "      <td>80</td>\n",
       "      <td>1</td>\n",
       "      <td>1</td>\n",
       "      <td>1</td>\n",
       "      <td>1</td>\n",
       "      <td>1</td>\n",
       "      <td>0</td>\n",
       "      <td>31.221304</td>\n",
       "    </tr>\n",
       "    <tr>\n",
       "      <td>4</td>\n",
       "      <td>992</td>\n",
       "      <td>23393</td>\n",
       "      <td>1</td>\n",
       "      <td>1.55</td>\n",
       "      <td>62.0</td>\n",
       "      <td>120</td>\n",
       "      <td>80</td>\n",
       "      <td>1</td>\n",
       "      <td>1</td>\n",
       "      <td>0</td>\n",
       "      <td>0</td>\n",
       "      <td>1</td>\n",
       "      <td>0</td>\n",
       "      <td>25.806452</td>\n",
       "    </tr>\n",
       "  </tbody>\n",
       "</table>\n",
       "</div>"
      ],
      "text/plain": [
       "    id    age  gender  height  weight  systolic  diastolic  cholesterol  \\\n",
       "0  988  22469       1    1.55    69.0       130         80            2   \n",
       "1  989  14648       1    1.63    71.0       110         70            1   \n",
       "2  990  21901       1    1.65    70.0       120         80            1   \n",
       "3  991  14549       0    1.65    85.0       120         80            1   \n",
       "4  992  23393       1    1.55    62.0       120         80            1   \n",
       "\n",
       "   glucose  smoke  alcohol  active  cardio        bmi  \n",
       "0        2      0        0       1       0  28.720083  \n",
       "1        1      0        0       1       1  26.722873  \n",
       "2        1      0        0       1       0  25.711662  \n",
       "3        1      1        1       1       0  31.221304  \n",
       "4        1      0        0       1       0  25.806452  "
      ]
     },
     "execution_count": 87,
     "metadata": {},
     "output_type": "execute_result"
    }
   ],
   "source": [
    "data.head()"
   ]
  },
  {
   "cell_type": "code",
   "execution_count": null,
   "metadata": {},
   "outputs": [],
   "source": []
  },
  {
   "cell_type": "code",
   "execution_count": 88,
   "metadata": {},
   "outputs": [],
   "source": [
    "#data['height']=data.height*0.01\n",
    "data['age']=(data.age/365).astype(int)\n",
    "#data['bmi']=data['weight']/data['height']**2"
   ]
  },
  {
   "cell_type": "code",
   "execution_count": 89,
   "metadata": {},
   "outputs": [
    {
     "data": {
      "text/html": [
       "<div>\n",
       "<style scoped>\n",
       "    .dataframe tbody tr th:only-of-type {\n",
       "        vertical-align: middle;\n",
       "    }\n",
       "\n",
       "    .dataframe tbody tr th {\n",
       "        vertical-align: top;\n",
       "    }\n",
       "\n",
       "    .dataframe thead th {\n",
       "        text-align: right;\n",
       "    }\n",
       "</style>\n",
       "<table border=\"1\" class=\"dataframe\">\n",
       "  <thead>\n",
       "    <tr style=\"text-align: right;\">\n",
       "      <th></th>\n",
       "      <th>systolic</th>\n",
       "      <th>diastolic</th>\n",
       "      <th>height</th>\n",
       "      <th>weight</th>\n",
       "      <th>age</th>\n",
       "    </tr>\n",
       "  </thead>\n",
       "  <tbody>\n",
       "    <tr>\n",
       "      <td>normal_lower_bound</td>\n",
       "      <td>90.0</td>\n",
       "      <td>65.0</td>\n",
       "      <td>1.425</td>\n",
       "      <td>39.5</td>\n",
       "      <td>33.0</td>\n",
       "    </tr>\n",
       "    <tr>\n",
       "      <td>normal_upper_bound</td>\n",
       "      <td>170.0</td>\n",
       "      <td>105.0</td>\n",
       "      <td>1.865</td>\n",
       "      <td>107.5</td>\n",
       "      <td>73.0</td>\n",
       "    </tr>\n",
       "    <tr>\n",
       "      <td>extreme_lower_bound</td>\n",
       "      <td>60.0</td>\n",
       "      <td>50.0</td>\n",
       "      <td>1.260</td>\n",
       "      <td>14.0</td>\n",
       "      <td>18.0</td>\n",
       "    </tr>\n",
       "    <tr>\n",
       "      <td>extreme_upper_bound</td>\n",
       "      <td>200.0</td>\n",
       "      <td>120.0</td>\n",
       "      <td>2.030</td>\n",
       "      <td>133.0</td>\n",
       "      <td>88.0</td>\n",
       "    </tr>\n",
       "  </tbody>\n",
       "</table>\n",
       "</div>"
      ],
      "text/plain": [
       "                     systolic  diastolic  height  weight   age\n",
       "normal_lower_bound       90.0       65.0   1.425    39.5  33.0\n",
       "normal_upper_bound      170.0      105.0   1.865   107.5  73.0\n",
       "extreme_lower_bound      60.0       50.0   1.260    14.0  18.0\n",
       "extreme_upper_bound     200.0      120.0   2.030   133.0  88.0"
      ]
     },
     "execution_count": 89,
     "metadata": {},
     "output_type": "execute_result"
    }
   ],
   "source": [
    "ap_list = ['systolic','diastolic','height','weight','age',]\n",
    "boundary = pd.DataFrame(index=[\"normal_lower_bound\",\"normal_upper_bound\",\"extreme_lower_bound\",\"extreme_upper_bound\"]) # We created an empty dataframe\n",
    "for each in ap_list:\n",
    "    Q1 = data[each].quantile(0.25)\n",
    "    Q3 = data[each].quantile(0.75)\n",
    "    IQR = Q3 - Q1\n",
    "\n",
    "    normal_lower_bound = Q1- 1.5*IQR\n",
    "    normal_upper_bound = Q3 + 1.5*IQR\n",
    "    extreme_lower_bound = Q1- 3*IQR\n",
    "    extreme_upper_bound = Q3 + 3*IQR\n",
    "    boundary[each] = [normal_lower_bound, normal_upper_bound,extreme_lower_bound,extreme_upper_bound ]\n",
    "boundary"
   ]
  },
  {
   "cell_type": "code",
   "execution_count": 102,
   "metadata": {},
   "outputs": [
    {
     "data": {
      "text/plain": [
       "<matplotlib.axes._subplots.AxesSubplot at 0x1a2672ad90>"
      ]
     },
     "execution_count": 102,
     "metadata": {},
     "output_type": "execute_result"
    },
    {
     "data": {
      "image/png": "[encoded data removed]",
      "text/plain": [
       "<Figure size 864x360 with 2 Axes>"
      ]
     },
     "metadata": {
      "needs_background": "light"
     },
     "output_type": "display_data"
    }
   ],
   "source": [
    "plt.figure(figsize=(12,5))\n",
    "plt.subplot(1,2,1)\n",
    "sns.distplot(data.height,kde=True)\n",
    "\n",
    "plt.subplot(1,2,2)\n",
    "sns.distplot(data.weight,kde=True)"
   ]
  },
  {
   "cell_type": "code",
   "execution_count": 23,
   "metadata": {},
   "outputs": [],
   "source": [
    "# data.loc[data.height < 1.425, 'height'] = 142\n",
    "# data.loc[data.height >1.86 , 'height'] = 186\n",
    "\n",
    "# data.loc[data.weight < 39.5, 'weight'] = 39\n",
    "# data.loc[data.weight >107.5 , 'weight'] = 107"
   ]
  },
  {
   "cell_type": "code",
   "execution_count": 90,
   "metadata": {},
   "outputs": [],
   "source": [
    "def systolic_trim_data(data):\n",
    "    data=data[data.systolic<185]\n",
    "    data=data[data.systolic>90]\n",
    "    return data\n",
    "def diastolic_trim_data(data):\n",
    "    data=data[data.diastolic<130]\n",
    "    data=data[data.diastolic>65]\n",
    "    return data\n",
    "\n",
    "data=systolic_trim_data(data)\n",
    "data=diastolic_trim_data(data)"
   ]
  },
  {
   "cell_type": "code",
   "execution_count": 108,
   "metadata": {},
   "outputs": [],
   "source": [
    "data=data[data.systolic<185]\n",
    "data=data[data.diastolic<130]"
   ]
  },
  {
   "cell_type": "code",
   "execution_count": 104,
   "metadata": {},
   "outputs": [],
   "source": [
    "data=data[data.systolic>90]\n",
    "data=data[data.diastolic>65]"
   ]
  },
  {
   "cell_type": "code",
   "execution_count": 91,
   "metadata": {},
   "outputs": [],
   "source": [
    "data=data[data.height>1.425]\n",
    "data=data[data.weight>39.5]"
   ]
  },
  {
   "cell_type": "code",
   "execution_count": 92,
   "metadata": {},
   "outputs": [],
   "source": [
    "data=data[data.height<1.865]\n",
    "data=data[data.weight<107.5]"
   ]
  },
  {
   "cell_type": "code",
   "execution_count": 93,
   "metadata": {},
   "outputs": [
    {
     "data": {
      "text/plain": [
       "<matplotlib.axes._subplots.AxesSubplot at 0x1a1f31e950>"
      ]
     },
     "execution_count": 93,
     "metadata": {},
     "output_type": "execute_result"
    },
    {
     "data": {
      "image/png": "[encoded data removed]",
      "text/plain": [
       "<Figure size 864x360 with 2 Axes>"
      ]
     },
     "metadata": {
      "needs_background": "light"
     },
     "output_type": "display_data"
    }
   ],
   "source": [
    "plt.figure(figsize=(12,5))\n",
    "plt.subplot(1,2,1)\n",
    "sns.distplot(data.height,kde=True)\n",
    "\n",
    "plt.subplot(1,2,2)\n",
    "sns.distplot(data.weight,kde=True)"
   ]
  },
  {
   "cell_type": "code",
   "execution_count": 109,
   "metadata": {},
   "outputs": [
    {
     "data": {
      "text/plain": [
       "<matplotlib.axes._subplots.AxesSubplot at 0x1a28198c90>"
      ]
     },
     "execution_count": 109,
     "metadata": {},
     "output_type": "execute_result"
    },
    {
     "data": {
      "image/png": "[encoded data removed]",
      "text/plain": [
       "<Figure size 864x360 with 2 Axes>"
      ]
     },
     "metadata": {
      "needs_background": "light"
     },
     "output_type": "display_data"
    }
   ],
   "source": [
    "plt.figure(figsize=(12,5))\n",
    "plt.subplot(1,2,1)\n",
    "sns.boxplot(x='cardio',y='systolic',data=data,palette='winter')\n",
    "plt.subplot(1,2,2)\n",
    "sns.boxplot(x='cardio',y='diastolic',data=data,palette='summer')\n"
   ]
  },
  {
   "cell_type": "code",
   "execution_count": 94,
   "metadata": {},
   "outputs": [
    {
     "data": {
      "text/plain": [
       "(62546, 14)"
      ]
     },
     "execution_count": 94,
     "metadata": {},
     "output_type": "execute_result"
    }
   ],
   "source": [
    "data.shape"
   ]
  },
  {
   "cell_type": "code",
   "execution_count": 95,
   "metadata": {},
   "outputs": [],
   "source": [
    "def bucket(data):\n",
    "    bins=[95,119,129,139,179,np.inf]\n",
    "    data['pressure'] = pd.cut(data['systolic'].values, bins,labels=[\"normal\",\"elevated\",\"hi stage 1\",\"hi stage 2\",\"hi stage 3\"],include_lowest=True)\n",
    "    return data\n",
    "data=bucket(data)"
   ]
  },
  {
   "cell_type": "code",
   "execution_count": 96,
   "metadata": {},
   "outputs": [
    {
     "data": {
      "text/plain": [
       "64"
      ]
     },
     "execution_count": 96,
     "metadata": {},
     "output_type": "execute_result"
    }
   ],
   "source": [
    "data.age.max()"
   ]
  },
  {
   "cell_type": "code",
   "execution_count": 104,
   "metadata": {},
   "outputs": [],
   "source": [
    "def ordinal_labeling(data):\n",
    "    ordered_labels = data.groupby(['pressure'])['cardio'].mean().sort_values().index\n",
    "    ordinal_label = {k:i for i, k in enumerate(ordered_labels, 0)}\n",
    "    data['pressure'] = data['pressure'].map(ordinal_label).astype(int)\n",
    "    return data\n",
    "data=ordinal_labeling(data)"
   ]
  },
  {
   "cell_type": "code",
   "execution_count": null,
   "metadata": {},
   "outputs": [],
   "source": []
  },
  {
   "cell_type": "code",
   "execution_count": 105,
   "metadata": {},
   "outputs": [
    {
     "data": {
      "text/plain": [
       "{'normal': 0, 'elevated': 1, 'hi stage 1': 2, 'hi stage 2': 3, 'hi stage 3': 4}"
      ]
     },
     "execution_count": 105,
     "metadata": {},
     "output_type": "execute_result"
    }
   ],
   "source": [
    "ordinal_label"
   ]
  },
  {
   "cell_type": "code",
   "execution_count": 106,
   "metadata": {},
   "outputs": [
    {
     "data": {
      "text/plain": [
       "dtype('int64')"
      ]
     },
     "execution_count": 106,
     "metadata": {},
     "output_type": "execute_result"
    }
   ],
   "source": [
    "data.pressure.dtypes"
   ]
  },
  {
   "cell_type": "code",
   "execution_count": 99,
   "metadata": {},
   "outputs": [],
   "source": [
    "bins=[29,35,40,45,50,55,60,64]\n",
    "bin_lebel=['29-35','36-40','41-45','46-50','51-55','56-60','61-65']\n",
    "data['age_range'] = pd.cut(data['age'],\n",
    "                              bins=bins,\n",
    "                              labels=bin_lebel,\n",
    "                               include_lowest=True)"
   ]
  },
  {
   "cell_type": "code",
   "execution_count": 25,
   "metadata": {},
   "outputs": [],
   "source": [
    "data.drop(['id','height','weight'],axis=1,inplace=True)"
   ]
  },
  {
   "cell_type": "code",
   "execution_count": 107,
   "metadata": {},
   "outputs": [
    {
     "name": "stdout",
     "output_type": "stream",
     "text": [
      "{0: 0, 1: 1, 2: 2, 3: 3, 4: 4, 5: 5, 6: 6}\n"
     ]
    }
   ],
   "source": [
    "def ordinal_labeling(data):\n",
    "    ordered_labels = data.groupby(['age_range'])['cardio'].mean().sort_values().index\n",
    "    ordinal_label = {k:i for i, k in enumerate(ordered_labels, 0)}\n",
    "    data['age_range'] = data['age_range'].map(ordinal_label).astype(int)\n",
    "    print(ordinal_label)\n",
    "    return data\n",
    "data=ordinal_labeling(data)"
   ]
  },
  {
   "cell_type": "code",
   "execution_count": 493,
   "metadata": {},
   "outputs": [],
   "source": [
    "#data['map']=(2*data['diastolic']+data['systolic'])/3"
   ]
  },
  {
   "cell_type": "code",
   "execution_count": 486,
   "metadata": {},
   "outputs": [
    {
     "data": {
      "text/html": [
       "<div>\n",
       "<style scoped>\n",
       "    .dataframe tbody tr th:only-of-type {\n",
       "        vertical-align: middle;\n",
       "    }\n",
       "\n",
       "    .dataframe tbody tr th {\n",
       "        vertical-align: top;\n",
       "    }\n",
       "\n",
       "    .dataframe thead th {\n",
       "        text-align: right;\n",
       "    }\n",
       "</style>\n",
       "<table border=\"1\" class=\"dataframe\">\n",
       "  <thead>\n",
       "    <tr style=\"text-align: right;\">\n",
       "      <th></th>\n",
       "      <th>Model</th>\n",
       "      <th>Accuracy</th>\n",
       "      <th>Precision</th>\n",
       "      <th>Recall</th>\n",
       "      <th>F1 Score</th>\n",
       "      <th>AUC</th>\n",
       "    </tr>\n",
       "  </thead>\n",
       "  <tbody>\n",
       "    <tr>\n",
       "      <td>0</td>\n",
       "      <td>Decision Tree Classifier</td>\n",
       "      <td>0.721855</td>\n",
       "      <td>0.749747</td>\n",
       "      <td>0.676476</td>\n",
       "      <td>0.711279</td>\n",
       "      <td>0.766635</td>\n",
       "    </tr>\n",
       "    <tr>\n",
       "      <td>1</td>\n",
       "      <td>KNN Classifier</td>\n",
       "      <td>0.722363</td>\n",
       "      <td>0.749840</td>\n",
       "      <td>0.677842</td>\n",
       "      <td>0.712016</td>\n",
       "      <td>0.767065</td>\n",
       "    </tr>\n",
       "    <tr>\n",
       "      <td>2</td>\n",
       "      <td>Xgboost Classifier</td>\n",
       "      <td>0.722317</td>\n",
       "      <td>0.749848</td>\n",
       "      <td>0.677691</td>\n",
       "      <td>0.711936</td>\n",
       "      <td>0.767076</td>\n",
       "    </tr>\n",
       "    <tr>\n",
       "      <td>3</td>\n",
       "      <td>Gaussian NB Classifier</td>\n",
       "      <td>0.714321</td>\n",
       "      <td>0.800713</td>\n",
       "      <td>0.580235</td>\n",
       "      <td>0.672857</td>\n",
       "      <td>0.756767</td>\n",
       "    </tr>\n",
       "    <tr>\n",
       "      <td>4</td>\n",
       "      <td>Random Forest Classifier</td>\n",
       "      <td>0.722194</td>\n",
       "      <td>0.749662</td>\n",
       "      <td>0.677660</td>\n",
       "      <td>0.711836</td>\n",
       "      <td>0.766763</td>\n",
       "    </tr>\n",
       "  </tbody>\n",
       "</table>\n",
       "</div>"
      ],
      "text/plain": [
       "                      Model  Accuracy  Precision    Recall  F1 Score       AUC\n",
       "0  Decision Tree Classifier  0.721855   0.749747  0.676476  0.711279  0.766635\n",
       "1            KNN Classifier  0.722363   0.749840  0.677842  0.712016  0.767065\n",
       "2        Xgboost Classifier  0.722317   0.749848  0.677691  0.711936  0.767076\n",
       "3    Gaussian NB Classifier  0.714321   0.800713  0.580235  0.672857  0.756767\n",
       "4  Random Forest Classifier  0.722194   0.749662  0.677660  0.711836  0.766763"
      ]
     },
     "execution_count": 486,
     "metadata": {},
     "output_type": "execute_result"
    }
   ],
   "source": [
    "X=data[['age','systolic','cholesterol']]\n",
    "y=data['cardio']\n",
    "model_evaluation(X,y,dt,knn,xgb,nb,rf,[])"
   ]
  },
  {
   "cell_type": "code",
   "execution_count": 487,
   "metadata": {},
   "outputs": [
    {
     "data": {
      "text/html": [
       "<div>\n",
       "<style scoped>\n",
       "    .dataframe tbody tr th:only-of-type {\n",
       "        vertical-align: middle;\n",
       "    }\n",
       "\n",
       "    .dataframe tbody tr th {\n",
       "        vertical-align: top;\n",
       "    }\n",
       "\n",
       "    .dataframe thead th {\n",
       "        text-align: right;\n",
       "    }\n",
       "</style>\n",
       "<table border=\"1\" class=\"dataframe\">\n",
       "  <thead>\n",
       "    <tr style=\"text-align: right;\">\n",
       "      <th></th>\n",
       "      <th>Model</th>\n",
       "      <th>Accuracy</th>\n",
       "      <th>Precision</th>\n",
       "      <th>Recall</th>\n",
       "      <th>F1 Score</th>\n",
       "      <th>AUC</th>\n",
       "    </tr>\n",
       "  </thead>\n",
       "  <tbody>\n",
       "    <tr>\n",
       "      <td>0</td>\n",
       "      <td>Decision Tree Classifier</td>\n",
       "      <td>0.723070</td>\n",
       "      <td>0.756647</td>\n",
       "      <td>0.667335</td>\n",
       "      <td>0.709289</td>\n",
       "      <td>0.768607</td>\n",
       "    </tr>\n",
       "    <tr>\n",
       "      <td>1</td>\n",
       "      <td>KNN Classifier</td>\n",
       "      <td>0.723732</td>\n",
       "      <td>0.756379</td>\n",
       "      <td>0.670280</td>\n",
       "      <td>0.710726</td>\n",
       "      <td>0.769309</td>\n",
       "    </tr>\n",
       "    <tr>\n",
       "      <td>2</td>\n",
       "      <td>Xgboost Classifier</td>\n",
       "      <td>0.723486</td>\n",
       "      <td>0.756567</td>\n",
       "      <td>0.669248</td>\n",
       "      <td>0.710229</td>\n",
       "      <td>0.769491</td>\n",
       "    </tr>\n",
       "    <tr>\n",
       "      <td>3</td>\n",
       "      <td>Gaussian NB Classifier</td>\n",
       "      <td>0.709584</td>\n",
       "      <td>0.801993</td>\n",
       "      <td>0.566296</td>\n",
       "      <td>0.663824</td>\n",
       "      <td>0.758261</td>\n",
       "    </tr>\n",
       "    <tr>\n",
       "      <td>4</td>\n",
       "      <td>Random Forest Classifier</td>\n",
       "      <td>0.723255</td>\n",
       "      <td>0.756406</td>\n",
       "      <td>0.668853</td>\n",
       "      <td>0.709936</td>\n",
       "      <td>0.769094</td>\n",
       "    </tr>\n",
       "  </tbody>\n",
       "</table>\n",
       "</div>"
      ],
      "text/plain": [
       "                      Model  Accuracy  Precision    Recall  F1 Score       AUC\n",
       "0  Decision Tree Classifier  0.723070   0.756647  0.667335  0.709289  0.768607\n",
       "1            KNN Classifier  0.723732   0.756379  0.670280  0.710726  0.769309\n",
       "2        Xgboost Classifier  0.723486   0.756567  0.669248  0.710229  0.769491\n",
       "3    Gaussian NB Classifier  0.709584   0.801993  0.566296  0.663824  0.758261\n",
       "4  Random Forest Classifier  0.723255   0.756406  0.668853  0.709936  0.769094"
      ]
     },
     "execution_count": 487,
     "metadata": {},
     "output_type": "execute_result"
    }
   ],
   "source": [
    "X=data[['age','systolic','cholesterol','smoke']]\n",
    "y=data['cardio']\n",
    "model_evaluation(X,y,dt,knn,xgb,nb,rf,[])"
   ]
  },
  {
   "cell_type": "code",
   "execution_count": 489,
   "metadata": {},
   "outputs": [
    {
     "data": {
      "text/html": [
       "<div>\n",
       "<style scoped>\n",
       "    .dataframe tbody tr th:only-of-type {\n",
       "        vertical-align: middle;\n",
       "    }\n",
       "\n",
       "    .dataframe tbody tr th {\n",
       "        vertical-align: top;\n",
       "    }\n",
       "\n",
       "    .dataframe thead th {\n",
       "        text-align: right;\n",
       "    }\n",
       "</style>\n",
       "<table border=\"1\" class=\"dataframe\">\n",
       "  <thead>\n",
       "    <tr style=\"text-align: right;\">\n",
       "      <th></th>\n",
       "      <th>Model</th>\n",
       "      <th>Accuracy</th>\n",
       "      <th>Precision</th>\n",
       "      <th>Recall</th>\n",
       "      <th>F1 Score</th>\n",
       "      <th>AUC</th>\n",
       "    </tr>\n",
       "  </thead>\n",
       "  <tbody>\n",
       "    <tr>\n",
       "      <td>0</td>\n",
       "      <td>Decision Tree Classifier</td>\n",
       "      <td>0.722271</td>\n",
       "      <td>0.753473</td>\n",
       "      <td>0.670888</td>\n",
       "      <td>0.709878</td>\n",
       "      <td>0.767498</td>\n",
       "    </tr>\n",
       "    <tr>\n",
       "      <td>1</td>\n",
       "      <td>KNN Classifier</td>\n",
       "      <td>0.723255</td>\n",
       "      <td>0.753642</td>\n",
       "      <td>0.673682</td>\n",
       "      <td>0.711412</td>\n",
       "      <td>0.768308</td>\n",
       "    </tr>\n",
       "    <tr>\n",
       "      <td>2</td>\n",
       "      <td>Xgboost Classifier</td>\n",
       "      <td>0.722778</td>\n",
       "      <td>0.753780</td>\n",
       "      <td>0.672042</td>\n",
       "      <td>0.710560</td>\n",
       "      <td>0.768294</td>\n",
       "    </tr>\n",
       "    <tr>\n",
       "      <td>3</td>\n",
       "      <td>Gaussian NB Classifier</td>\n",
       "      <td>0.711922</td>\n",
       "      <td>0.802115</td>\n",
       "      <td>0.572248</td>\n",
       "      <td>0.667947</td>\n",
       "      <td>0.757272</td>\n",
       "    </tr>\n",
       "    <tr>\n",
       "      <td>4</td>\n",
       "      <td>Random Forest Classifier</td>\n",
       "      <td>0.722670</td>\n",
       "      <td>0.753319</td>\n",
       "      <td>0.672528</td>\n",
       "      <td>0.710629</td>\n",
       "      <td>0.767735</td>\n",
       "    </tr>\n",
       "  </tbody>\n",
       "</table>\n",
       "</div>"
      ],
      "text/plain": [
       "                      Model  Accuracy  Precision    Recall  F1 Score       AUC\n",
       "0  Decision Tree Classifier  0.722271   0.753473  0.670888  0.709878  0.767498\n",
       "1            KNN Classifier  0.723255   0.753642  0.673682  0.711412  0.768308\n",
       "2        Xgboost Classifier  0.722778   0.753780  0.672042  0.710560  0.768294\n",
       "3    Gaussian NB Classifier  0.711922   0.802115  0.572248  0.667947  0.757272\n",
       "4  Random Forest Classifier  0.722670   0.753319  0.672528  0.710629  0.767735"
      ]
     },
     "execution_count": 489,
     "metadata": {},
     "output_type": "execute_result"
    }
   ],
   "source": [
    "X=data[['age','systolic','cholesterol','alcohol']]\n",
    "y=data['cardio']\n",
    "model_evaluation(X,y,dt,knn,xgb,nb,rf,[])"
   ]
  },
  {
   "cell_type": "code",
   "execution_count": 490,
   "metadata": {},
   "outputs": [
    {
     "data": {
      "text/html": [
       "<div>\n",
       "<style scoped>\n",
       "    .dataframe tbody tr th:only-of-type {\n",
       "        vertical-align: middle;\n",
       "    }\n",
       "\n",
       "    .dataframe tbody tr th {\n",
       "        vertical-align: top;\n",
       "    }\n",
       "\n",
       "    .dataframe thead th {\n",
       "        text-align: right;\n",
       "    }\n",
       "</style>\n",
       "<table border=\"1\" class=\"dataframe\">\n",
       "  <thead>\n",
       "    <tr style=\"text-align: right;\">\n",
       "      <th></th>\n",
       "      <th>Model</th>\n",
       "      <th>Accuracy</th>\n",
       "      <th>Precision</th>\n",
       "      <th>Recall</th>\n",
       "      <th>F1 Score</th>\n",
       "      <th>AUC</th>\n",
       "    </tr>\n",
       "  </thead>\n",
       "  <tbody>\n",
       "    <tr>\n",
       "      <td>0</td>\n",
       "      <td>Decision Tree Classifier</td>\n",
       "      <td>0.722993</td>\n",
       "      <td>0.758697</td>\n",
       "      <td>0.663933</td>\n",
       "      <td>0.708219</td>\n",
       "      <td>0.768453</td>\n",
       "    </tr>\n",
       "    <tr>\n",
       "      <td>1</td>\n",
       "      <td>KNN Classifier</td>\n",
       "      <td>0.723685</td>\n",
       "      <td>0.757602</td>\n",
       "      <td>0.668063</td>\n",
       "      <td>0.710011</td>\n",
       "      <td>0.769770</td>\n",
       "    </tr>\n",
       "    <tr>\n",
       "      <td>2</td>\n",
       "      <td>Xgboost Classifier</td>\n",
       "      <td>0.723762</td>\n",
       "      <td>0.758415</td>\n",
       "      <td>0.666879</td>\n",
       "      <td>0.709703</td>\n",
       "      <td>0.769900</td>\n",
       "    </tr>\n",
       "    <tr>\n",
       "      <td>3</td>\n",
       "      <td>Gaussian NB Classifier</td>\n",
       "      <td>0.708554</td>\n",
       "      <td>0.802811</td>\n",
       "      <td>0.562621</td>\n",
       "      <td>0.661568</td>\n",
       "      <td>0.757247</td>\n",
       "    </tr>\n",
       "    <tr>\n",
       "      <td>4</td>\n",
       "      <td>Random Forest Classifier</td>\n",
       "      <td>0.723270</td>\n",
       "      <td>0.758523</td>\n",
       "      <td>0.665270</td>\n",
       "      <td>0.708838</td>\n",
       "      <td>0.768891</td>\n",
       "    </tr>\n",
       "  </tbody>\n",
       "</table>\n",
       "</div>"
      ],
      "text/plain": [
       "                      Model  Accuracy  Precision    Recall  F1 Score       AUC\n",
       "0  Decision Tree Classifier  0.722993   0.758697  0.663933  0.708219  0.768453\n",
       "1            KNN Classifier  0.723685   0.757602  0.668063  0.710011  0.769770\n",
       "2        Xgboost Classifier  0.723762   0.758415  0.666879  0.709703  0.769900\n",
       "3    Gaussian NB Classifier  0.708554   0.802811  0.562621  0.661568  0.757247\n",
       "4  Random Forest Classifier  0.723270   0.758523  0.665270  0.708838  0.768891"
      ]
     },
     "execution_count": 490,
     "metadata": {},
     "output_type": "execute_result"
    }
   ],
   "source": [
    "X=data[['age','systolic','cholesterol','alcohol','smoke']]\n",
    "y=data['cardio']\n",
    "model_evaluation(X,y,dt,knn,xgb,nb,rf,[])"
   ]
  },
  {
   "cell_type": "code",
   "execution_count": 494,
   "metadata": {},
   "outputs": [
    {
     "data": {
      "text/html": [
       "<div>\n",
       "<style scoped>\n",
       "    .dataframe tbody tr th:only-of-type {\n",
       "        vertical-align: middle;\n",
       "    }\n",
       "\n",
       "    .dataframe tbody tr th {\n",
       "        vertical-align: top;\n",
       "    }\n",
       "\n",
       "    .dataframe thead th {\n",
       "        text-align: right;\n",
       "    }\n",
       "</style>\n",
       "<table border=\"1\" class=\"dataframe\">\n",
       "  <thead>\n",
       "    <tr style=\"text-align: right;\">\n",
       "      <th></th>\n",
       "      <th>Model</th>\n",
       "      <th>Accuracy</th>\n",
       "      <th>Precision</th>\n",
       "      <th>Recall</th>\n",
       "      <th>F1 Score</th>\n",
       "      <th>AUC</th>\n",
       "    </tr>\n",
       "  </thead>\n",
       "  <tbody>\n",
       "    <tr>\n",
       "      <td>0</td>\n",
       "      <td>Decision Tree Classifier</td>\n",
       "      <td>0.714951</td>\n",
       "      <td>0.742732</td>\n",
       "      <td>0.668519</td>\n",
       "      <td>0.703832</td>\n",
       "      <td>0.760498</td>\n",
       "    </tr>\n",
       "    <tr>\n",
       "      <td>1</td>\n",
       "      <td>KNN Classifier</td>\n",
       "      <td>0.715704</td>\n",
       "      <td>0.744202</td>\n",
       "      <td>0.668610</td>\n",
       "      <td>0.704213</td>\n",
       "      <td>0.762615</td>\n",
       "    </tr>\n",
       "    <tr>\n",
       "      <td>2</td>\n",
       "      <td>Xgboost Classifier</td>\n",
       "      <td>0.716197</td>\n",
       "      <td>0.743558</td>\n",
       "      <td>0.670918</td>\n",
       "      <td>0.705368</td>\n",
       "      <td>0.762684</td>\n",
       "    </tr>\n",
       "    <tr>\n",
       "      <td>3</td>\n",
       "      <td>Gaussian NB Classifier</td>\n",
       "      <td>0.701142</td>\n",
       "      <td>0.772906</td>\n",
       "      <td>0.580935</td>\n",
       "      <td>0.663117</td>\n",
       "      <td>0.749503</td>\n",
       "    </tr>\n",
       "    <tr>\n",
       "      <td>4</td>\n",
       "      <td>Random Forest Classifier</td>\n",
       "      <td>0.715212</td>\n",
       "      <td>0.742394</td>\n",
       "      <td>0.670129</td>\n",
       "      <td>0.704401</td>\n",
       "      <td>0.760974</td>\n",
       "    </tr>\n",
       "  </tbody>\n",
       "</table>\n",
       "</div>"
      ],
      "text/plain": [
       "                      Model  Accuracy  Precision    Recall  F1 Score       AUC\n",
       "0  Decision Tree Classifier  0.714951   0.742732  0.668519  0.703832  0.760498\n",
       "1            KNN Classifier  0.715704   0.744202  0.668610  0.704213  0.762615\n",
       "2        Xgboost Classifier  0.716197   0.743558  0.670918  0.705368  0.762684\n",
       "3    Gaussian NB Classifier  0.701142   0.772906  0.580935  0.663117  0.749503\n",
       "4  Random Forest Classifier  0.715212   0.742394  0.670129  0.704401  0.760974"
      ]
     },
     "execution_count": 494,
     "metadata": {},
     "output_type": "execute_result"
    }
   ],
   "source": [
    "X=data[['age','map','cholesterol','alcohol','smoke']]\n",
    "y=data['cardio']\n",
    "model_evaluation(X,y,dt,knn,xgb,nb,rf,[])"
   ]
  },
  {
   "cell_type": "code",
   "execution_count": 264,
   "metadata": {},
   "outputs": [
    {
     "data": {
      "text/html": [
       "<div>\n",
       "<style scoped>\n",
       "    .dataframe tbody tr th:only-of-type {\n",
       "        vertical-align: middle;\n",
       "    }\n",
       "\n",
       "    .dataframe tbody tr th {\n",
       "        vertical-align: top;\n",
       "    }\n",
       "\n",
       "    .dataframe thead th {\n",
       "        text-align: right;\n",
       "    }\n",
       "</style>\n",
       "<table border=\"1\" class=\"dataframe\">\n",
       "  <thead>\n",
       "    <tr style=\"text-align: right;\">\n",
       "      <th></th>\n",
       "      <th>Model</th>\n",
       "      <th>Accuracy</th>\n",
       "      <th>Precision</th>\n",
       "      <th>Recall</th>\n",
       "      <th>F1 Score</th>\n",
       "      <th>AUC</th>\n",
       "    </tr>\n",
       "  </thead>\n",
       "  <tbody>\n",
       "    <tr>\n",
       "      <td>0</td>\n",
       "      <td>Decision Tree Classifier</td>\n",
       "      <td>0.726313</td>\n",
       "      <td>0.749803</td>\n",
       "      <td>0.683556</td>\n",
       "      <td>0.714638</td>\n",
       "      <td>0.788743</td>\n",
       "    </tr>\n",
       "    <tr>\n",
       "      <td>1</td>\n",
       "      <td>KNN Classifier</td>\n",
       "      <td>0.710613</td>\n",
       "      <td>0.726197</td>\n",
       "      <td>0.677195</td>\n",
       "      <td>0.700615</td>\n",
       "      <td>0.764465</td>\n",
       "    </tr>\n",
       "    <tr>\n",
       "      <td>2</td>\n",
       "      <td>Xgboost Classifier</td>\n",
       "      <td>0.727241</td>\n",
       "      <td>0.742797</td>\n",
       "      <td>0.695512</td>\n",
       "      <td>0.718337</td>\n",
       "      <td>0.792268</td>\n",
       "    </tr>\n",
       "    <tr>\n",
       "      <td>3</td>\n",
       "      <td>Gaussian NB Classifier</td>\n",
       "      <td>0.720462</td>\n",
       "      <td>0.760861</td>\n",
       "      <td>0.643310</td>\n",
       "      <td>0.697144</td>\n",
       "      <td>0.779778</td>\n",
       "    </tr>\n",
       "    <tr>\n",
       "      <td>4</td>\n",
       "      <td>Random Forest Classifier</td>\n",
       "      <td>0.726841</td>\n",
       "      <td>0.745103</td>\n",
       "      <td>0.690525</td>\n",
       "      <td>0.715696</td>\n",
       "      <td>0.789658</td>\n",
       "    </tr>\n",
       "  </tbody>\n",
       "</table>\n",
       "</div>"
      ],
      "text/plain": [
       "                      Model  Accuracy  Precision    Recall  F1 Score       AUC\n",
       "0  Decision Tree Classifier  0.726313   0.749803  0.683556  0.714638  0.788743\n",
       "1            KNN Classifier  0.710613   0.726197  0.677195  0.700615  0.764465\n",
       "2        Xgboost Classifier  0.727241   0.742797  0.695512  0.718337  0.792268\n",
       "3    Gaussian NB Classifier  0.720462   0.760861  0.643310  0.697144  0.779778\n",
       "4  Random Forest Classifier  0.726841   0.745103  0.690525  0.715696  0.789658"
      ]
     },
     "execution_count": 264,
     "metadata": {},
     "output_type": "execute_result"
    }
   ],
   "source": [
    "X=data[['age','pressure','cholesterol','smoke']]\n",
    "y=data['cardio']\n",
    "model_evaluation(X,y,dt,knn,xgb,nb,rf,[])"
   ]
  },
  {
   "cell_type": "code",
   "execution_count": 265,
   "metadata": {},
   "outputs": [
    {
     "data": {
      "text/html": [
       "<div>\n",
       "<style scoped>\n",
       "    .dataframe tbody tr th:only-of-type {\n",
       "        vertical-align: middle;\n",
       "    }\n",
       "\n",
       "    .dataframe tbody tr th {\n",
       "        vertical-align: top;\n",
       "    }\n",
       "\n",
       "    .dataframe thead th {\n",
       "        text-align: right;\n",
       "    }\n",
       "</style>\n",
       "<table border=\"1\" class=\"dataframe\">\n",
       "  <thead>\n",
       "    <tr style=\"text-align: right;\">\n",
       "      <th></th>\n",
       "      <th>Model</th>\n",
       "      <th>Accuracy</th>\n",
       "      <th>Precision</th>\n",
       "      <th>Recall</th>\n",
       "      <th>F1 Score</th>\n",
       "      <th>AUC</th>\n",
       "    </tr>\n",
       "  </thead>\n",
       "  <tbody>\n",
       "    <tr>\n",
       "      <td>0</td>\n",
       "      <td>Decision Tree Classifier</td>\n",
       "      <td>0.726441</td>\n",
       "      <td>0.748813</td>\n",
       "      <td>0.681191</td>\n",
       "      <td>0.713630</td>\n",
       "      <td>0.790088</td>\n",
       "    </tr>\n",
       "    <tr>\n",
       "      <td>1</td>\n",
       "      <td>KNN Classifier</td>\n",
       "      <td>0.708183</td>\n",
       "      <td>0.715361</td>\n",
       "      <td>0.692763</td>\n",
       "      <td>0.703493</td>\n",
       "      <td>0.763549</td>\n",
       "    </tr>\n",
       "    <tr>\n",
       "      <td>2</td>\n",
       "      <td>Xgboost Classifier</td>\n",
       "      <td>0.727273</td>\n",
       "      <td>0.746608</td>\n",
       "      <td>0.688447</td>\n",
       "      <td>0.716299</td>\n",
       "      <td>0.791640</td>\n",
       "    </tr>\n",
       "    <tr>\n",
       "      <td>3</td>\n",
       "      <td>Gaussian NB Classifier</td>\n",
       "      <td>0.721693</td>\n",
       "      <td>0.761785</td>\n",
       "      <td>0.645388</td>\n",
       "      <td>0.698754</td>\n",
       "      <td>0.779923</td>\n",
       "    </tr>\n",
       "    <tr>\n",
       "      <td>4</td>\n",
       "      <td>Random Forest Classifier</td>\n",
       "      <td>0.725738</td>\n",
       "      <td>0.746923</td>\n",
       "      <td>0.682150</td>\n",
       "      <td>0.714597</td>\n",
       "      <td>0.790220</td>\n",
       "    </tr>\n",
       "  </tbody>\n",
       "</table>\n",
       "</div>"
      ],
      "text/plain": [
       "                      Model  Accuracy  Precision    Recall  F1 Score       AUC\n",
       "0  Decision Tree Classifier  0.726441   0.748813  0.681191  0.713630  0.790088\n",
       "1            KNN Classifier  0.708183   0.715361  0.692763  0.703493  0.763549\n",
       "2        Xgboost Classifier  0.727273   0.746608  0.688447  0.716299  0.791640\n",
       "3    Gaussian NB Classifier  0.721693   0.761785  0.645388  0.698754  0.779923\n",
       "4  Random Forest Classifier  0.725738   0.746923  0.682150  0.714597  0.790220"
      ]
     },
     "execution_count": 265,
     "metadata": {},
     "output_type": "execute_result"
    }
   ],
   "source": [
    "X=data[['age','pressure','cholesterol']]\n",
    "y=data['cardio']\n",
    "model_evaluation(X,y,dt,knn,xgb,nb,rf,[])"
   ]
  },
  {
   "cell_type": "code",
   "execution_count": 116,
   "metadata": {},
   "outputs": [
    {
     "data": {
      "text/plain": [
       "Index(['id', 'age', 'gender', 'height', 'weight', 'systolic', 'diastolic',\n",
       "       'cholesterol', 'glucose', 'smoke', 'alcohol', 'active', 'cardio', 'bmi',\n",
       "       'pressure', 'age_range'],\n",
       "      dtype='object')"
      ]
     },
     "execution_count": 116,
     "metadata": {},
     "output_type": "execute_result"
    }
   ],
   "source": [
    "data.columns"
   ]
  },
  {
   "cell_type": "code",
   "execution_count": 108,
   "metadata": {},
   "outputs": [
    {
     "data": {
      "text/html": [
       "<div>\n",
       "<style scoped>\n",
       "    .dataframe tbody tr th:only-of-type {\n",
       "        vertical-align: middle;\n",
       "    }\n",
       "\n",
       "    .dataframe tbody tr th {\n",
       "        vertical-align: top;\n",
       "    }\n",
       "\n",
       "    .dataframe thead th {\n",
       "        text-align: right;\n",
       "    }\n",
       "</style>\n",
       "<table border=\"1\" class=\"dataframe\">\n",
       "  <thead>\n",
       "    <tr style=\"text-align: right;\">\n",
       "      <th></th>\n",
       "      <th>Model</th>\n",
       "      <th>Accuracy</th>\n",
       "      <th>Precision</th>\n",
       "      <th>Recall</th>\n",
       "      <th>F1 Score</th>\n",
       "      <th>AUC</th>\n",
       "    </tr>\n",
       "  </thead>\n",
       "  <tbody>\n",
       "    <tr>\n",
       "      <td>0</td>\n",
       "      <td>Decision Tree Classifier</td>\n",
       "      <td>0.720638</td>\n",
       "      <td>0.739598</td>\n",
       "      <td>0.686274</td>\n",
       "      <td>0.715153</td>\n",
       "      <td>0.780508</td>\n",
       "    </tr>\n",
       "    <tr>\n",
       "      <td>1</td>\n",
       "      <td>KNN Classifier</td>\n",
       "      <td>0.709702</td>\n",
       "      <td>0.720581</td>\n",
       "      <td>0.685379</td>\n",
       "      <td>0.702517</td>\n",
       "      <td>0.764266</td>\n",
       "    </tr>\n",
       "    <tr>\n",
       "      <td>2</td>\n",
       "      <td>Xgboost Classifier</td>\n",
       "      <td>0.727816</td>\n",
       "      <td>0.740615</td>\n",
       "      <td>0.701490</td>\n",
       "      <td>0.720498</td>\n",
       "      <td>0.792661</td>\n",
       "    </tr>\n",
       "    <tr>\n",
       "      <td>3</td>\n",
       "      <td>Gaussian NB Classifier</td>\n",
       "      <td>0.720270</td>\n",
       "      <td>0.755955</td>\n",
       "      <td>0.650854</td>\n",
       "      <td>0.699463</td>\n",
       "      <td>0.778205</td>\n",
       "    </tr>\n",
       "    <tr>\n",
       "      <td>4</td>\n",
       "      <td>Random Forest Classifier</td>\n",
       "      <td>0.727593</td>\n",
       "      <td>0.739220</td>\n",
       "      <td>0.702641</td>\n",
       "      <td>0.720340</td>\n",
       "      <td>0.790951</td>\n",
       "    </tr>\n",
       "  </tbody>\n",
       "</table>\n",
       "</div>"
      ],
      "text/plain": [
       "                      Model  Accuracy  Precision    Recall  F1 Score       AUC\n",
       "0  Decision Tree Classifier  0.720638   0.739598  0.686274  0.715153  0.780508\n",
       "1            KNN Classifier  0.709702   0.720581  0.685379  0.702517  0.764266\n",
       "2        Xgboost Classifier  0.727816   0.740615  0.701490  0.720498  0.792661\n",
       "3    Gaussian NB Classifier  0.720270   0.755955  0.650854  0.699463  0.778205\n",
       "4  Random Forest Classifier  0.727593   0.739220  0.702641  0.720340  0.790951"
      ]
     },
     "execution_count": 108,
     "metadata": {},
     "output_type": "execute_result"
    }
   ],
   "source": [
    "X=data[['age_range','pressure','cholesterol','smoke', 'alcohol','bmi']]\n",
    "y=data['cardio']\n",
    "model_evaluation(X,y,dt,knn,xgb,nb,rf,[])"
   ]
  },
  {
   "cell_type": "code",
   "execution_count": 115,
   "metadata": {},
   "outputs": [
    {
     "data": {
      "text/html": [
       "<div>\n",
       "<style scoped>\n",
       "    .dataframe tbody tr th:only-of-type {\n",
       "        vertical-align: middle;\n",
       "    }\n",
       "\n",
       "    .dataframe tbody tr th {\n",
       "        vertical-align: top;\n",
       "    }\n",
       "\n",
       "    .dataframe thead th {\n",
       "        text-align: right;\n",
       "    }\n",
       "</style>\n",
       "<table border=\"1\" class=\"dataframe\">\n",
       "  <thead>\n",
       "    <tr style=\"text-align: right;\">\n",
       "      <th></th>\n",
       "      <th>Model</th>\n",
       "      <th>Accuracy</th>\n",
       "      <th>Precision</th>\n",
       "      <th>Recall</th>\n",
       "      <th>F1 Score</th>\n",
       "      <th>AUC</th>\n",
       "    </tr>\n",
       "  </thead>\n",
       "  <tbody>\n",
       "    <tr>\n",
       "      <td>0</td>\n",
       "      <td>Decision Tree Classifier</td>\n",
       "      <td>0.722285</td>\n",
       "      <td>0.737225</td>\n",
       "      <td>0.690813</td>\n",
       "      <td>0.715178</td>\n",
       "      <td>0.782160</td>\n",
       "    </tr>\n",
       "    <tr>\n",
       "      <td>1</td>\n",
       "      <td>KNN Classifier</td>\n",
       "      <td>0.709318</td>\n",
       "      <td>0.719479</td>\n",
       "      <td>0.686497</td>\n",
       "      <td>0.702583</td>\n",
       "      <td>0.764612</td>\n",
       "    </tr>\n",
       "    <tr>\n",
       "      <td>2</td>\n",
       "      <td>Xgboost Classifier</td>\n",
       "      <td>0.727752</td>\n",
       "      <td>0.739899</td>\n",
       "      <td>0.702705</td>\n",
       "      <td>0.720800</td>\n",
       "      <td>0.792489</td>\n",
       "    </tr>\n",
       "    <tr>\n",
       "      <td>3</td>\n",
       "      <td>Gaussian NB Classifier</td>\n",
       "      <td>0.720430</td>\n",
       "      <td>0.756521</td>\n",
       "      <td>0.650375</td>\n",
       "      <td>0.699426</td>\n",
       "      <td>0.779116</td>\n",
       "    </tr>\n",
       "    <tr>\n",
       "      <td>4</td>\n",
       "      <td>Random Forest Classifier</td>\n",
       "      <td>0.727033</td>\n",
       "      <td>0.738430</td>\n",
       "      <td>0.704112</td>\n",
       "      <td>0.720552</td>\n",
       "      <td>0.790276</td>\n",
       "    </tr>\n",
       "  </tbody>\n",
       "</table>\n",
       "</div>"
      ],
      "text/plain": [
       "                      Model  Accuracy  Precision    Recall  F1 Score       AUC\n",
       "0  Decision Tree Classifier  0.722285   0.737225  0.690813  0.715178  0.782160\n",
       "1            KNN Classifier  0.709318   0.719479  0.686497  0.702583  0.764612\n",
       "2        Xgboost Classifier  0.727752   0.739899  0.702705  0.720800  0.792489\n",
       "3    Gaussian NB Classifier  0.720430   0.756521  0.650375  0.699426  0.779116\n",
       "4  Random Forest Classifier  0.727033   0.738430  0.704112  0.720552  0.790276"
      ]
     },
     "execution_count": 115,
     "metadata": {},
     "output_type": "execute_result"
    }
   ],
   "source": [
    "X=data[['age_range','pressure','cholesterol','smoke', 'bmi']]\n",
    "y=data['cardio']\n",
    "model_evaluation(X,y,dt,knn,xgb,nb,rf,[])"
   ]
  },
  {
   "cell_type": "code",
   "execution_count": null,
   "metadata": {},
   "outputs": [],
   "source": []
  },
  {
   "cell_type": "code",
   "execution_count": 232,
   "metadata": {},
   "outputs": [],
   "source": [
    "df=data.copy()"
   ]
  },
  {
   "cell_type": "code",
   "execution_count": 233,
   "metadata": {},
   "outputs": [],
   "source": [
    "df['map']=(2*df['diastolic']+df['systolic'])/3"
   ]
  },
  {
   "cell_type": "code",
   "execution_count": 234,
   "metadata": {},
   "outputs": [
    {
     "data": {
      "text/html": [
       "<div>\n",
       "<style scoped>\n",
       "    .dataframe tbody tr th:only-of-type {\n",
       "        vertical-align: middle;\n",
       "    }\n",
       "\n",
       "    .dataframe tbody tr th {\n",
       "        vertical-align: top;\n",
       "    }\n",
       "\n",
       "    .dataframe thead th {\n",
       "        text-align: right;\n",
       "    }\n",
       "</style>\n",
       "<table border=\"1\" class=\"dataframe\">\n",
       "  <thead>\n",
       "    <tr style=\"text-align: right;\">\n",
       "      <th></th>\n",
       "      <th>age</th>\n",
       "      <th>gender</th>\n",
       "      <th>systolic</th>\n",
       "      <th>diastolic</th>\n",
       "      <th>cholesterol</th>\n",
       "      <th>glucose</th>\n",
       "      <th>smoke</th>\n",
       "      <th>alcohol</th>\n",
       "      <th>active</th>\n",
       "      <th>cardio</th>\n",
       "      <th>bmi</th>\n",
       "      <th>map</th>\n",
       "    </tr>\n",
       "  </thead>\n",
       "  <tbody>\n",
       "    <tr>\n",
       "      <td>0</td>\n",
       "      <td>61</td>\n",
       "      <td>0</td>\n",
       "      <td>130</td>\n",
       "      <td>80</td>\n",
       "      <td>2</td>\n",
       "      <td>2</td>\n",
       "      <td>0</td>\n",
       "      <td>0</td>\n",
       "      <td>1</td>\n",
       "      <td>0</td>\n",
       "      <td>28.720083</td>\n",
       "      <td>96.666667</td>\n",
       "    </tr>\n",
       "    <tr>\n",
       "      <td>1</td>\n",
       "      <td>40</td>\n",
       "      <td>0</td>\n",
       "      <td>110</td>\n",
       "      <td>70</td>\n",
       "      <td>1</td>\n",
       "      <td>1</td>\n",
       "      <td>0</td>\n",
       "      <td>0</td>\n",
       "      <td>1</td>\n",
       "      <td>1</td>\n",
       "      <td>26.722873</td>\n",
       "      <td>83.333333</td>\n",
       "    </tr>\n",
       "    <tr>\n",
       "      <td>2</td>\n",
       "      <td>60</td>\n",
       "      <td>0</td>\n",
       "      <td>120</td>\n",
       "      <td>80</td>\n",
       "      <td>1</td>\n",
       "      <td>1</td>\n",
       "      <td>0</td>\n",
       "      <td>0</td>\n",
       "      <td>1</td>\n",
       "      <td>0</td>\n",
       "      <td>25.711662</td>\n",
       "      <td>93.333333</td>\n",
       "    </tr>\n",
       "    <tr>\n",
       "      <td>3</td>\n",
       "      <td>39</td>\n",
       "      <td>1</td>\n",
       "      <td>120</td>\n",
       "      <td>80</td>\n",
       "      <td>1</td>\n",
       "      <td>1</td>\n",
       "      <td>1</td>\n",
       "      <td>1</td>\n",
       "      <td>1</td>\n",
       "      <td>0</td>\n",
       "      <td>31.221304</td>\n",
       "      <td>93.333333</td>\n",
       "    </tr>\n",
       "    <tr>\n",
       "      <td>4</td>\n",
       "      <td>64</td>\n",
       "      <td>0</td>\n",
       "      <td>120</td>\n",
       "      <td>80</td>\n",
       "      <td>1</td>\n",
       "      <td>1</td>\n",
       "      <td>0</td>\n",
       "      <td>0</td>\n",
       "      <td>1</td>\n",
       "      <td>0</td>\n",
       "      <td>25.806452</td>\n",
       "      <td>93.333333</td>\n",
       "    </tr>\n",
       "  </tbody>\n",
       "</table>\n",
       "</div>"
      ],
      "text/plain": [
       "   age  gender  systolic  diastolic  cholesterol  glucose  smoke  alcohol  \\\n",
       "0   61       0       130         80            2        2      0        0   \n",
       "1   40       0       110         70            1        1      0        0   \n",
       "2   60       0       120         80            1        1      0        0   \n",
       "3   39       1       120         80            1        1      1        1   \n",
       "4   64       0       120         80            1        1      0        0   \n",
       "\n",
       "   active  cardio        bmi        map  \n",
       "0       1       0  28.720083  96.666667  \n",
       "1       1       1  26.722873  83.333333  \n",
       "2       1       0  25.711662  93.333333  \n",
       "3       1       0  31.221304  93.333333  \n",
       "4       1       0  25.806452  93.333333  "
      ]
     },
     "execution_count": 234,
     "metadata": {},
     "output_type": "execute_result"
    }
   ],
   "source": [
    "df.head()"
   ]
  },
  {
   "cell_type": "code",
   "execution_count": 235,
   "metadata": {},
   "outputs": [],
   "source": [
    "df['pp']=df['systolic']-df['diastolic']"
   ]
  },
  {
   "cell_type": "code",
   "execution_count": 204,
   "metadata": {},
   "outputs": [],
   "source": [
    "df.drop(['systolic','diastolic'],axis=1,inplace=True)"
   ]
  },
  {
   "cell_type": "code",
   "execution_count": 236,
   "metadata": {},
   "outputs": [
    {
     "data": {
      "text/html": [
       "<div>\n",
       "<style scoped>\n",
       "    .dataframe tbody tr th:only-of-type {\n",
       "        vertical-align: middle;\n",
       "    }\n",
       "\n",
       "    .dataframe tbody tr th {\n",
       "        vertical-align: top;\n",
       "    }\n",
       "\n",
       "    .dataframe thead th {\n",
       "        text-align: right;\n",
       "    }\n",
       "</style>\n",
       "<table border=\"1\" class=\"dataframe\">\n",
       "  <thead>\n",
       "    <tr style=\"text-align: right;\">\n",
       "      <th></th>\n",
       "      <th>age</th>\n",
       "      <th>gender</th>\n",
       "      <th>systolic</th>\n",
       "      <th>diastolic</th>\n",
       "      <th>cholesterol</th>\n",
       "      <th>glucose</th>\n",
       "      <th>smoke</th>\n",
       "      <th>alcohol</th>\n",
       "      <th>active</th>\n",
       "      <th>cardio</th>\n",
       "      <th>bmi</th>\n",
       "      <th>map</th>\n",
       "      <th>pp</th>\n",
       "    </tr>\n",
       "  </thead>\n",
       "  <tbody>\n",
       "    <tr>\n",
       "      <td>count</td>\n",
       "      <td>65031.000000</td>\n",
       "      <td>65031.000000</td>\n",
       "      <td>65031.000000</td>\n",
       "      <td>65031.000000</td>\n",
       "      <td>65031.000000</td>\n",
       "      <td>65031.000000</td>\n",
       "      <td>65031.000000</td>\n",
       "      <td>65031.000000</td>\n",
       "      <td>65031.000000</td>\n",
       "      <td>65031.000000</td>\n",
       "      <td>65031.000000</td>\n",
       "      <td>65031.000000</td>\n",
       "      <td>65031.000000</td>\n",
       "    </tr>\n",
       "    <tr>\n",
       "      <td>mean</td>\n",
       "      <td>52.949209</td>\n",
       "      <td>0.353616</td>\n",
       "      <td>127.711292</td>\n",
       "      <td>82.289262</td>\n",
       "      <td>1.370639</td>\n",
       "      <td>1.228783</td>\n",
       "      <td>0.088312</td>\n",
       "      <td>0.054005</td>\n",
       "      <td>0.803571</td>\n",
       "      <td>0.506343</td>\n",
       "      <td>27.455818</td>\n",
       "      <td>97.429939</td>\n",
       "      <td>45.422029</td>\n",
       "    </tr>\n",
       "    <tr>\n",
       "      <td>std</td>\n",
       "      <td>6.731905</td>\n",
       "      <td>0.478095</td>\n",
       "      <td>15.991824</td>\n",
       "      <td>8.570662</td>\n",
       "      <td>0.684594</td>\n",
       "      <td>0.575556</td>\n",
       "      <td>0.283750</td>\n",
       "      <td>0.226029</td>\n",
       "      <td>0.397300</td>\n",
       "      <td>0.499964</td>\n",
       "      <td>4.915276</td>\n",
       "      <td>10.238144</td>\n",
       "      <td>11.501660</td>\n",
       "    </tr>\n",
       "    <tr>\n",
       "      <td>min</td>\n",
       "      <td>29.000000</td>\n",
       "      <td>0.000000</td>\n",
       "      <td>93.000000</td>\n",
       "      <td>61.000000</td>\n",
       "      <td>1.000000</td>\n",
       "      <td>1.000000</td>\n",
       "      <td>0.000000</td>\n",
       "      <td>0.000000</td>\n",
       "      <td>0.000000</td>\n",
       "      <td>0.000000</td>\n",
       "      <td>12.309052</td>\n",
       "      <td>72.333333</td>\n",
       "      <td>-85.000000</td>\n",
       "    </tr>\n",
       "    <tr>\n",
       "      <td>25%</td>\n",
       "      <td>48.000000</td>\n",
       "      <td>0.000000</td>\n",
       "      <td>120.000000</td>\n",
       "      <td>80.000000</td>\n",
       "      <td>1.000000</td>\n",
       "      <td>1.000000</td>\n",
       "      <td>0.000000</td>\n",
       "      <td>0.000000</td>\n",
       "      <td>1.000000</td>\n",
       "      <td>0.000000</td>\n",
       "      <td>23.875115</td>\n",
       "      <td>93.333333</td>\n",
       "      <td>40.000000</td>\n",
       "    </tr>\n",
       "    <tr>\n",
       "      <td>50%</td>\n",
       "      <td>54.000000</td>\n",
       "      <td>0.000000</td>\n",
       "      <td>120.000000</td>\n",
       "      <td>80.000000</td>\n",
       "      <td>1.000000</td>\n",
       "      <td>1.000000</td>\n",
       "      <td>0.000000</td>\n",
       "      <td>0.000000</td>\n",
       "      <td>1.000000</td>\n",
       "      <td>1.000000</td>\n",
       "      <td>26.446281</td>\n",
       "      <td>93.333333</td>\n",
       "      <td>40.000000</td>\n",
       "    </tr>\n",
       "    <tr>\n",
       "      <td>75%</td>\n",
       "      <td>58.000000</td>\n",
       "      <td>1.000000</td>\n",
       "      <td>140.000000</td>\n",
       "      <td>90.000000</td>\n",
       "      <td>2.000000</td>\n",
       "      <td>1.000000</td>\n",
       "      <td>0.000000</td>\n",
       "      <td>0.000000</td>\n",
       "      <td>1.000000</td>\n",
       "      <td>1.000000</td>\n",
       "      <td>30.359251</td>\n",
       "      <td>103.333333</td>\n",
       "      <td>50.000000</td>\n",
       "    </tr>\n",
       "    <tr>\n",
       "      <td>max</td>\n",
       "      <td>64.000000</td>\n",
       "      <td>1.000000</td>\n",
       "      <td>240.000000</td>\n",
       "      <td>190.000000</td>\n",
       "      <td>3.000000</td>\n",
       "      <td>3.000000</td>\n",
       "      <td>1.000000</td>\n",
       "      <td>1.000000</td>\n",
       "      <td>1.000000</td>\n",
       "      <td>1.000000</td>\n",
       "      <td>53.064868</td>\n",
       "      <td>186.666667</td>\n",
       "      <td>140.000000</td>\n",
       "    </tr>\n",
       "  </tbody>\n",
       "</table>\n",
       "</div>"
      ],
      "text/plain": [
       "                age        gender      systolic     diastolic   cholesterol  \\\n",
       "count  65031.000000  65031.000000  65031.000000  65031.000000  65031.000000   \n",
       "mean      52.949209      0.353616    127.711292     82.289262      1.370639   \n",
       "std        6.731905      0.478095     15.991824      8.570662      0.684594   \n",
       "min       29.000000      0.000000     93.000000     61.000000      1.000000   \n",
       "25%       48.000000      0.000000    120.000000     80.000000      1.000000   \n",
       "50%       54.000000      0.000000    120.000000     80.000000      1.000000   \n",
       "75%       58.000000      1.000000    140.000000     90.000000      2.000000   \n",
       "max       64.000000      1.000000    240.000000    190.000000      3.000000   \n",
       "\n",
       "            glucose         smoke       alcohol        active        cardio  \\\n",
       "count  65031.000000  65031.000000  65031.000000  65031.000000  65031.000000   \n",
       "mean       1.228783      0.088312      0.054005      0.803571      0.506343   \n",
       "std        0.575556      0.283750      0.226029      0.397300      0.499964   \n",
       "min        1.000000      0.000000      0.000000      0.000000      0.000000   \n",
       "25%        1.000000      0.000000      0.000000      1.000000      0.000000   \n",
       "50%        1.000000      0.000000      0.000000      1.000000      1.000000   \n",
       "75%        1.000000      0.000000      0.000000      1.000000      1.000000   \n",
       "max        3.000000      1.000000      1.000000      1.000000      1.000000   \n",
       "\n",
       "                bmi           map            pp  \n",
       "count  65031.000000  65031.000000  65031.000000  \n",
       "mean      27.455818     97.429939     45.422029  \n",
       "std        4.915276     10.238144     11.501660  \n",
       "min       12.309052     72.333333    -85.000000  \n",
       "25%       23.875115     93.333333     40.000000  \n",
       "50%       26.446281     93.333333     40.000000  \n",
       "75%       30.359251    103.333333     50.000000  \n",
       "max       53.064868    186.666667    140.000000  "
      ]
     },
     "execution_count": 236,
     "metadata": {},
     "output_type": "execute_result"
    }
   ],
   "source": [
    "df.describe()"
   ]
  },
  {
   "cell_type": "code",
   "execution_count": 212,
   "metadata": {},
   "outputs": [],
   "source": [
    "from sklearn.preprocessing import StandardScaler\n",
    "from sklearn.svm import SVC\n",
    "from sklearn.model_selection import cross_val_score"
   ]
  },
  {
   "cell_type": "code",
   "execution_count": 215,
   "metadata": {},
   "outputs": [],
   "source": [
    "X=df.drop(['cardio','pp'],axis=1)\n",
    "y=df['cardio']\n",
    "\n",
    "scaler = StandardScaler()\n",
    "scaler.fit(X)\n",
    "X_scaled= scaler.transform(X)"
   ]
  },
  {
   "cell_type": "code",
   "execution_count": 217,
   "metadata": {},
   "outputs": [
    {
     "name": "stderr",
     "output_type": "stream",
     "text": [
      "/Users/tanvirislamullash/opt/anaconda3/lib/python3.7/site-packages/sklearn/svm/base.py:193: FutureWarning: The default value of gamma will change from 'auto' to 'scale' in version 0.22 to account better for unscaled features. Set gamma explicitly to 'auto' or 'scale' to avoid this warning.\n",
      "  \"avoid this warning.\", FutureWarning)\n",
      "/Users/tanvirislamullash/opt/anaconda3/lib/python3.7/site-packages/sklearn/svm/base.py:193: FutureWarning: The default value of gamma will change from 'auto' to 'scale' in version 0.22 to account better for unscaled features. Set gamma explicitly to 'auto' or 'scale' to avoid this warning.\n",
      "  \"avoid this warning.\", FutureWarning)\n",
      "/Users/tanvirislamullash/opt/anaconda3/lib/python3.7/site-packages/sklearn/svm/base.py:193: FutureWarning: The default value of gamma will change from 'auto' to 'scale' in version 0.22 to account better for unscaled features. Set gamma explicitly to 'auto' or 'scale' to avoid this warning.\n",
      "  \"avoid this warning.\", FutureWarning)\n",
      "/Users/tanvirislamullash/opt/anaconda3/lib/python3.7/site-packages/sklearn/svm/base.py:193: FutureWarning: The default value of gamma will change from 'auto' to 'scale' in version 0.22 to account better for unscaled features. Set gamma explicitly to 'auto' or 'scale' to avoid this warning.\n",
      "  \"avoid this warning.\", FutureWarning)\n",
      "/Users/tanvirislamullash/opt/anaconda3/lib/python3.7/site-packages/sklearn/svm/base.py:193: FutureWarning: The default value of gamma will change from 'auto' to 'scale' in version 0.22 to account better for unscaled features. Set gamma explicitly to 'auto' or 'scale' to avoid this warning.\n",
      "  \"avoid this warning.\", FutureWarning)\n"
     ]
    },
    {
     "data": {
      "text/plain": [
       "array([0.72291843, 0.73037595, 0.72222649, 0.72195309, 0.72103037])"
      ]
     },
     "execution_count": 217,
     "metadata": {},
     "output_type": "execute_result"
    }
   ],
   "source": [
    "clf = SVC()\n",
    "cross_val_score(clf,X_scaled,y,cv=5,scoring='accuracy')\n"
   ]
  },
  {
   "cell_type": "code",
   "execution_count": 39,
   "metadata": {},
   "outputs": [],
   "source": [
    "from sklearn.model_selection import KFold, GridSearchCV, cross_val_score, cross_val_predict\n",
    "cv = KFold(5, random_state = 1)\n",
    "from sklearn.metrics import (accuracy_score, precision_score, recall_score, f1_score, roc_auc_score, \n",
    "                             classification_report, confusion_matrix)\n",
    "Model = []\n",
    "Accuracy = []\n",
    "Precision = []\n",
    "Recall = []\n",
    "F1 = []\n",
    "AUC = []\n"
   ]
  },
  {
   "cell_type": "code",
   "execution_count": 28,
   "metadata": {},
   "outputs": [],
   "source": [
    "from sklearn.tree import DecisionTreeClassifier"
   ]
  },
  {
   "cell_type": "code",
   "execution_count": 221,
   "metadata": {},
   "outputs": [
    {
     "name": "stdout",
     "output_type": "stream",
     "text": [
      "Param Decession Tree :  {'criterion': 'entropy', 'max_depth': 10, 'max_features': 'log2'}\n"
     ]
    }
   ],
   "source": [
    "from sklearn.tree import DecisionTreeClassifier\n",
    "dtc = DecisionTreeClassifier()\n",
    "param_grid = {'criterion': ['gini', 'entropy'],\n",
    "    'max_depth' : [10,40,80,120,200],\n",
    "    'max_features' : ['auto', 'sqrt', 'log2']}\n",
    "grid2 = GridSearchCV(dtc, param_grid, cv=cv).fit(X_scaled,y)\n",
    "print(\"Param Decession Tree : \", grid2.best_params_)\n",
    "\n",
    "\n",
    "clf = grid2.best_estimator_\n",
    "Model.append(\"Decision Tree Classifier\")\n",
    "Accuracy.append(cross_val_score(clf, X_scaled,y, cv=cv, scoring='accuracy').mean())\n",
    "Precision.append(cross_val_score(clf, X_scaled,y, cv=cv, scoring='precision').mean())\n",
    "Recall.append(cross_val_score(clf, X_scaled,y, cv=cv, scoring='recall').mean())\n",
    "F1.append(cross_val_score(clf, X_scaled,y, cv=cv, scoring='f1').mean())\n",
    "AUC.append(cross_val_score(clf, X_scaled,y, cv=cv, scoring='roc_auc').mean())"
   ]
  },
  {
   "cell_type": "code",
   "execution_count": 29,
   "metadata": {
    "scrolled": true
   },
   "outputs": [
    {
     "data": {
      "text/plain": [
       "DecisionTreeClassifier(class_weight=None, criterion='entropy', max_depth=10,\n",
       "                       max_features='log2', max_leaf_nodes=None,\n",
       "                       min_impurity_decrease=0.0, min_impurity_split=None,\n",
       "                       min_samples_leaf=1, min_samples_split=2,\n",
       "                       min_weight_fraction_leaf=0.0, presort=False,\n",
       "                       random_state=None, splitter='best')"
      ]
     },
     "execution_count": 29,
     "metadata": {},
     "output_type": "execute_result"
    }
   ],
   "source": [
    "dt=DecisionTreeClassifier(class_weight=None, criterion='entropy', max_depth=10,\n",
    "                       max_features='log2', max_leaf_nodes=None,\n",
    "                       min_impurity_decrease=0.0, min_impurity_split=None,\n",
    "                       min_samples_leaf=1, min_samples_split=2,\n",
    "                       min_weight_fraction_leaf=0.0, presort=False,\n",
    "                       random_state=None, splitter='best')\n",
    "dt"
   ]
  },
  {
   "cell_type": "code",
   "execution_count": 30,
   "metadata": {},
   "outputs": [],
   "source": [
    "from sklearn.neighbors import KNeighborsClassifier\n",
    "knn=KNeighborsClassifier(algorithm='brute',n_neighbors=11)"
   ]
  },
  {
   "cell_type": "code",
   "execution_count": 222,
   "metadata": {},
   "outputs": [
    {
     "name": "stdout",
     "output_type": "stream",
     "text": [
      "Param KNN :  {'algorithm': 'brute', 'n_neighbors': 11}\n"
     ]
    }
   ],
   "source": [
    "from sklearn.neighbors import KNeighborsClassifier\n",
    "knn=KNeighborsClassifier()\n",
    "param_grid={'n_neighbors':[4,5,6,7,8,9,10,11],\n",
    "           'algorithm':['auto', 'ball_tree', 'kd_tree', 'brute']}\n",
    "grid5=GridSearchCV(knn, param_grid, cv=cv).fit(X_scaled,y)\n",
    "print(\"Param KNN : \",  grid5.best_params_)\n",
    "\n",
    "clf = grid5.best_estimator_\n",
    "Model.append(\"KNN Classifier\")\n",
    "Accuracy.append(cross_val_score(clf, X_scaled,y, cv=cv, scoring='accuracy').mean())\n",
    "Precision.append(cross_val_score(clf, X_scaled,y, cv=cv, scoring='precision').mean())\n",
    "Recall.append(cross_val_score(clf, X_scaled,y, cv=cv, scoring='recall').mean())\n",
    "F1.append(cross_val_score(clf, X_scaled,y, cv=cv, scoring='f1').mean())\n",
    "AUC.append(cross_val_score(clf, X_scaled,y, cv=cv, scoring='roc_auc').mean())"
   ]
  },
  {
   "cell_type": "code",
   "execution_count": 229,
   "metadata": {},
   "outputs": [
    {
     "data": {
      "text/plain": [
       "XGBClassifier(base_score=0.5, booster='gbtree', colsample_bylevel=1,\n",
       "              colsample_bynode=1, colsample_bytree=1, gamma=0,\n",
       "              learning_rate=0.1, max_delta_step=0, max_depth=3,\n",
       "              min_child_weight=1, missing=None, n_estimators=100, n_jobs=1,\n",
       "              nthread=None, objective='binary:logistic', priors=5,\n",
       "              random_state=0, reg_alpha=0, reg_lambda=1, scale_pos_weight=1,\n",
       "              seed=None, silent=None, subsample=1, verbosity=1)"
      ]
     },
     "execution_count": 229,
     "metadata": {},
     "output_type": "execute_result"
    }
   ],
   "source": [
    "knn=grid5.best_estimator_\n",
    "knn"
   ]
  },
  {
   "cell_type": "code",
   "execution_count": 223,
   "metadata": {},
   "outputs": [
    {
     "name": "stdout",
     "output_type": "stream",
     "text": [
      "Param XGBoost :  {' learning_rate': 0.1, 'max_depth': 5, 'n_estimators': 50}\n"
     ]
    }
   ],
   "source": [
    "from xgboost import XGBClassifier\n",
    "xgb = XGBClassifier(objective='binary:logistic')\n",
    "param_grid = {' learning_rate':[0.1,0.01,0.001],\n",
    "    'max_depth': [5,10,15,],\n",
    "    'n_estimators':[50,100,150]}\n",
    "grid4 = GridSearchCV(xgb, param_grid, cv=cv).fit(X_scaled,y)\n",
    "print(\"Param XGBoost : \",  grid4.best_params_)\n",
    "\n",
    "clf = grid4.best_estimator_\n",
    "Model.append(\"Xgboost Classifier\")\n",
    "Accuracy.append(cross_val_score(clf, X_scaled,y, cv=cv, scoring='accuracy').mean())\n",
    "Precision.append(cross_val_score(clf, X_scaled,y, cv=cv, scoring='precision').mean())\n",
    "Recall.append(cross_val_score(clf, X_scaled,y, cv=cv, scoring='recall').mean())\n",
    "F1.append(cross_val_score(clf, X_scaled,y, cv=cv, scoring='f1').mean())\n",
    "AUC.append(cross_val_score(clf, X_scaled,y, cv=cv, scoring='roc_auc').mean())"
   ]
  },
  {
   "cell_type": "code",
   "execution_count": 31,
   "metadata": {},
   "outputs": [],
   "source": [
    "from xgboost import XGBClassifier"
   ]
  },
  {
   "cell_type": "code",
   "execution_count": 32,
   "metadata": {},
   "outputs": [],
   "source": [
    "\n",
    "xgb=XGBClassifier( base_score=0.5, booster='gbtree',\n",
    "              colsample_bylevel=1, colsample_bynode=1, colsample_bytree=1,\n",
    "              gamma=0,learning_rate=0.1, max_delta_step=0, max_depth=5,\n",
    "              min_child_weight=1, missing=None, n_estimators=50, n_jobs=1,\n",
    "              nthread=None, objective='binary:logistic', random_state=0,\n",
    "              reg_alpha=0, reg_lambda=1, scale_pos_weight=1, seed=None,\n",
    "              silent=None, subsample=1, verbosity=1)"
   ]
  },
  {
   "cell_type": "code",
   "execution_count": 266,
   "metadata": {},
   "outputs": [
    {
     "name": "stdout",
     "output_type": "stream",
     "text": [
      "Gaussian NB :  {}\n"
     ]
    }
   ],
   "source": [
    "X=df.drop(['cardio'],axis=1)\n",
    "y=df['cardio']\n",
    "\n",
    "scaler = StandardScaler()\n",
    "scaler.fit(X)\n",
    "X_scaled= scaler.transform(X)\n",
    "from sklearn.naive_bayes import GaussianNB\n",
    "nb = GaussianNB()\n",
    "\n",
    "param_grid = {}\n",
    "grid1 = GridSearchCV(nb, param_grid, cv=cv).fit(X_scaled,y)\n",
    "print(\"Gaussian NB : \",  grid1.best_params_)\n",
    "\n",
    "nb = grid1.best_estimator_\n"
   ]
  },
  {
   "cell_type": "code",
   "execution_count": 33,
   "metadata": {},
   "outputs": [],
   "source": [
    "from sklearn.naive_bayes import GaussianNB\n",
    "nb = GaussianNB()"
   ]
  },
  {
   "cell_type": "code",
   "execution_count": 34,
   "metadata": {},
   "outputs": [],
   "source": [
    "from sklearn.ensemble import RandomForestClassifier"
   ]
  },
  {
   "cell_type": "code",
   "execution_count": 275,
   "metadata": {},
   "outputs": [
    {
     "name": "stdout",
     "output_type": "stream",
     "text": [
      "Param Random Forest :  {'criterion': 'gini', 'max_depth': 10, 'max_features': 'auto', 'n_estimators': 90}\n"
     ]
    }
   ],
   "source": [
    "X=df.drop(['cardio'],axis=1)\n",
    "y=df['cardio']\n",
    "\n",
    "scaler = StandardScaler()\n",
    "scaler.fit(X)\n",
    "X_scaled= scaler.transform(X)\n",
    "\n",
    "from sklearn.ensemble import RandomForestClassifier\n",
    "rfc = RandomForestClassifier(random_state=1)\n",
    "param_grid = {\"n_estimators\" : [90,100,150,180],\n",
    "    'criterion': ['gini', 'entropy'],\n",
    "    'max_depth' : [5,10,30,50,70,100,200],\n",
    "    'max_features' : ['auto','log2']}\n",
    "grid = GridSearchCV(rfc, param_grid, cv=cv).fit(X_scaled, y)\n",
    "print(\"Param Random Forest : \",  grid.best_params_)\n",
    "\n",
    "\n"
   ]
  },
  {
   "cell_type": "code",
   "execution_count": 35,
   "metadata": {},
   "outputs": [
    {
     "data": {
      "text/plain": [
       "RandomForestClassifier(bootstrap=True, class_weight=None, criterion='gini',\n",
       "                       max_depth=10, max_features='auto', max_leaf_nodes=None,\n",
       "                       min_impurity_decrease=0.0, min_impurity_split=None,\n",
       "                       min_samples_leaf=1, min_samples_split=2,\n",
       "                       min_weight_fraction_leaf=0.0, n_estimators=90,\n",
       "                       n_jobs=None, oob_score=False, random_state=None,\n",
       "                       verbose=0, warm_start=False)"
      ]
     },
     "execution_count": 35,
     "metadata": {},
     "output_type": "execute_result"
    }
   ],
   "source": [
    "rf = RandomForestClassifier(criterion='gini',max_depth=10,max_features='auto',n_estimators=90)\n",
    "rf"
   ]
  },
  {
   "cell_type": "code",
   "execution_count": 273,
   "metadata": {},
   "outputs": [
    {
     "data": {
      "text/plain": [
       "<matplotlib.axes._subplots.AxesSubplot at 0x1a29e030d0>"
      ]
     },
     "execution_count": 273,
     "metadata": {},
     "output_type": "execute_result"
    },
    {
     "data": {
      "image/png": "[encoded data removed]",
      "text/plain": [
       "<Figure size 1080x1080 with 2 Axes>"
      ]
     },
     "metadata": {
      "needs_background": "light"
     },
     "output_type": "display_data"
    }
   ],
   "source": [
    "import seaborn as sns\n",
    "import matplotlib.pyplot as plt\n",
    "corr = df.corr()\n",
    "f, ax = plt.subplots(figsize = (15,15))\n",
    "sns.heatmap(corr, annot=True, fmt=\".3f\", linewidths=0.5, ax=ax)"
   ]
  },
  {
   "cell_type": "code",
   "execution_count": 226,
   "metadata": {},
   "outputs": [
    {
     "name": "stdout",
     "output_type": "stream",
     "text": [
      "Results for Training Score \n"
     ]
    },
    {
     "data": {
      "text/html": [
       "<div>\n",
       "<style scoped>\n",
       "    .dataframe tbody tr th:only-of-type {\n",
       "        vertical-align: middle;\n",
       "    }\n",
       "\n",
       "    .dataframe tbody tr th {\n",
       "        vertical-align: top;\n",
       "    }\n",
       "\n",
       "    .dataframe thead th {\n",
       "        text-align: right;\n",
       "    }\n",
       "</style>\n",
       "<table border=\"1\" class=\"dataframe\">\n",
       "  <thead>\n",
       "    <tr style=\"text-align: right;\">\n",
       "      <th></th>\n",
       "      <th>Model</th>\n",
       "      <th>Accuracy</th>\n",
       "      <th>Precision</th>\n",
       "      <th>Recall</th>\n",
       "      <th>F1 Score</th>\n",
       "      <th>AUC</th>\n",
       "    </tr>\n",
       "  </thead>\n",
       "  <tbody>\n",
       "    <tr>\n",
       "      <td>0</td>\n",
       "      <td>Decision Tree Classifier</td>\n",
       "      <td>0.714013</td>\n",
       "      <td>0.739757</td>\n",
       "      <td>0.690361</td>\n",
       "      <td>0.709671</td>\n",
       "      <td>0.771674</td>\n",
       "    </tr>\n",
       "    <tr>\n",
       "      <td>1</td>\n",
       "      <td>KNN Classifier</td>\n",
       "      <td>0.707155</td>\n",
       "      <td>0.716341</td>\n",
       "      <td>0.698134</td>\n",
       "      <td>0.707106</td>\n",
       "      <td>0.760960</td>\n",
       "    </tr>\n",
       "    <tr>\n",
       "      <td>2</td>\n",
       "      <td>Xgboost Classifier</td>\n",
       "      <td>0.726208</td>\n",
       "      <td>0.744693</td>\n",
       "      <td>0.699031</td>\n",
       "      <td>0.721112</td>\n",
       "      <td>0.791384</td>\n",
       "    </tr>\n",
       "    <tr>\n",
       "      <td>3</td>\n",
       "      <td>Gaussian NB Classifier</td>\n",
       "      <td>0.725762</td>\n",
       "      <td>0.743698</td>\n",
       "      <td>0.699549</td>\n",
       "      <td>0.720926</td>\n",
       "      <td>0.791369</td>\n",
       "    </tr>\n",
       "    <tr>\n",
       "      <td>4</td>\n",
       "      <td>Multinomial NB Classifier</td>\n",
       "      <td>0.725762</td>\n",
       "      <td>0.743698</td>\n",
       "      <td>0.699549</td>\n",
       "      <td>0.720926</td>\n",
       "      <td>0.791369</td>\n",
       "    </tr>\n",
       "  </tbody>\n",
       "</table>\n",
       "</div>"
      ],
      "text/plain": [
       "                       Model  Accuracy  Precision    Recall  F1 Score  \\\n",
       "0   Decision Tree Classifier  0.714013   0.739757  0.690361  0.709671   \n",
       "1             KNN Classifier  0.707155   0.716341  0.698134  0.707106   \n",
       "2         Xgboost Classifier  0.726208   0.744693  0.699031  0.721112   \n",
       "3     Gaussian NB Classifier  0.725762   0.743698  0.699549  0.720926   \n",
       "4  Multinomial NB Classifier  0.725762   0.743698  0.699549  0.720926   \n",
       "\n",
       "        AUC  \n",
       "0  0.771674  \n",
       "1  0.760960  \n",
       "2  0.791384  \n",
       "3  0.791369  \n",
       "4  0.791369  "
      ]
     },
     "execution_count": 226,
     "metadata": {},
     "output_type": "execute_result"
    }
   ],
   "source": [
    "evaluation = pd.DataFrame({'Model': Model, \n",
    "                           'Accuracy': Accuracy, \n",
    "                           'Precision': Precision, \n",
    "                           'Recall': Recall,\n",
    "                           'F1 Score': F1, \n",
    "                           'AUC': AUC})\n",
    "print(\"Results for Training Score \")\n",
    "evaluation"
   ]
  },
  {
   "cell_type": "code",
   "execution_count": 36,
   "metadata": {},
   "outputs": [],
   "source": [
    "def model_evaluation(feature,target,dt,knn,xgb,nb,rf,drop_list):\n",
    "    from sklearn.preprocessing import StandardScaler\n",
    "    from sklearn.model_selection import cross_val_score\n",
    "\n",
    "    Model = []\n",
    "    Accuracy = []\n",
    "    Precision = []\n",
    "    Recall = []\n",
    "    F1 = []\n",
    "    AUC = []\n",
    "    scaler = StandardScaler()\n",
    "    scaler.fit(feature)\n",
    "    X_scaled= scaler.transform(X)\n",
    "    cv=10\n",
    "    \n",
    "    Model.append(\"Decision Tree Classifier\")\n",
    "    Accuracy.append(cross_val_score(dt, X_scaled,y, cv=cv, scoring='accuracy').mean())\n",
    "    Precision.append(cross_val_score(dt, X_scaled,y, cv=cv, scoring='precision').mean())\n",
    "    Recall.append(cross_val_score(dt, X_scaled,y, cv=cv, scoring='recall').mean())\n",
    "    F1.append(cross_val_score(dt, X_scaled,y, cv=cv, scoring='f1').mean())\n",
    "    AUC.append(cross_val_score(dt, X_scaled,y, cv=cv, scoring='roc_auc').mean())\n",
    "    \n",
    "    Model.append(\"KNN Classifier\")\n",
    "    Accuracy.append(cross_val_score(knn, X_scaled,y, cv=cv, scoring='accuracy').mean())\n",
    "    Precision.append(cross_val_score(knn, X_scaled,y, cv=cv, scoring='precision').mean())\n",
    "    Recall.append(cross_val_score(knn, X_scaled,y, cv=cv, scoring='recall').mean())\n",
    "    F1.append(cross_val_score(knn, X_scaled,y, cv=cv, scoring='f1').mean())\n",
    "    AUC.append(cross_val_score(knn, X_scaled,y, cv=cv, scoring='roc_auc').mean())\n",
    "    \n",
    "    Model.append(\"Xgboost Classifier\")\n",
    "    Accuracy.append(cross_val_score(xgb, X_scaled,y, cv=cv, scoring='accuracy').mean())\n",
    "    Precision.append(cross_val_score(xgb, X_scaled,y, cv=cv, scoring='precision').mean())\n",
    "    Recall.append(cross_val_score(xgb, X_scaled,y, cv=cv, scoring='recall').mean())\n",
    "    F1.append(cross_val_score(xgb, X_scaled,y, cv=cv, scoring='f1').mean())\n",
    "    AUC.append(cross_val_score(xgb, X_scaled,y, cv=cv, scoring='roc_auc').mean())\n",
    "    \n",
    "    Model.append(\"Gaussian NB Classifier\")\n",
    "    Accuracy.append(cross_val_score(nb, X_scaled,y, cv=cv, scoring='accuracy').mean())\n",
    "    Precision.append(cross_val_score(nb, X_scaled,y, cv=cv, scoring='precision').mean())\n",
    "    Recall.append(cross_val_score(nb, X_scaled,y, cv=cv, scoring='recall').mean())\n",
    "    F1.append(cross_val_score(nb, X_scaled,y, cv=cv, scoring='f1').mean())\n",
    "    AUC.append(cross_val_score(nb, X_scaled,y, cv=cv, scoring='roc_auc').mean())\n",
    "    \n",
    "    Model.append(\"Random Forest Classifier\")\n",
    "    Accuracy.append(cross_val_score(rf, X_scaled,y, cv=cv, scoring='accuracy').mean())\n",
    "    Precision.append(cross_val_score(rf, X_scaled,y, cv=cv, scoring='precision').mean())\n",
    "    Recall.append(cross_val_score(rf, X_scaled,y, cv=cv, scoring='recall').mean())\n",
    "    F1.append(cross_val_score(rf, X_scaled,y, cv=cv, scoring='f1').mean())\n",
    "    AUC.append(cross_val_score(rf, X_scaled,y, cv=cv, scoring='roc_auc').mean())\n",
    "    \n",
    "    for i in drop_list:\n",
    "        print(i,end=',')\n",
    "        \n",
    "    evaluation = pd.DataFrame({'Model': Model, \n",
    "                           'Accuracy': Accuracy, \n",
    "                           'Precision': Precision, \n",
    "                           'Recall': Recall,\n",
    "                           'F1 Score': F1, \n",
    "                           'AUC': AUC})\n",
    "    return evaluation\n",
    "        \n",
    "    \n",
    "\n",
    "    \n",
    "    \n",
    "\n",
    "    \n",
    "    \n",
    "\n",
    "    "
   ]
  },
  {
   "cell_type": "code",
   "execution_count": 280,
   "metadata": {},
   "outputs": [
    {
     "name": "stdout",
     "output_type": "stream",
     "text": [
      "systolic,diastolic,map,cardio,"
     ]
    },
    {
     "data": {
      "text/html": [
       "<div>\n",
       "<style scoped>\n",
       "    .dataframe tbody tr th:only-of-type {\n",
       "        vertical-align: middle;\n",
       "    }\n",
       "\n",
       "    .dataframe tbody tr th {\n",
       "        vertical-align: top;\n",
       "    }\n",
       "\n",
       "    .dataframe thead th {\n",
       "        text-align: right;\n",
       "    }\n",
       "</style>\n",
       "<table border=\"1\" class=\"dataframe\">\n",
       "  <thead>\n",
       "    <tr style=\"text-align: right;\">\n",
       "      <th></th>\n",
       "      <th>Model</th>\n",
       "      <th>Accuracy</th>\n",
       "      <th>Precision</th>\n",
       "      <th>Recall</th>\n",
       "      <th>F1 Score</th>\n",
       "      <th>AUC</th>\n",
       "    </tr>\n",
       "  </thead>\n",
       "  <tbody>\n",
       "    <tr>\n",
       "      <td>0</td>\n",
       "      <td>Decision Tree Classifier</td>\n",
       "      <td>0.692839</td>\n",
       "      <td>0.705123</td>\n",
       "      <td>0.672325</td>\n",
       "      <td>0.683914</td>\n",
       "      <td>0.747963</td>\n",
       "    </tr>\n",
       "    <tr>\n",
       "      <td>1</td>\n",
       "      <td>KNN Classifier</td>\n",
       "      <td>0.703249</td>\n",
       "      <td>0.714990</td>\n",
       "      <td>0.688268</td>\n",
       "      <td>0.701370</td>\n",
       "      <td>0.766157</td>\n",
       "    </tr>\n",
       "    <tr>\n",
       "      <td>2</td>\n",
       "      <td>Xgboost Classifier</td>\n",
       "      <td>0.702511</td>\n",
       "      <td>0.714076</td>\n",
       "      <td>0.687910</td>\n",
       "      <td>0.700743</td>\n",
       "      <td>0.766248</td>\n",
       "    </tr>\n",
       "    <tr>\n",
       "      <td>3</td>\n",
       "      <td>Gaussian NB Classifier</td>\n",
       "      <td>0.665237</td>\n",
       "      <td>0.733607</td>\n",
       "      <td>0.532025</td>\n",
       "      <td>0.616761</td>\n",
       "      <td>0.737625</td>\n",
       "    </tr>\n",
       "    <tr>\n",
       "      <td>4</td>\n",
       "      <td>Random Forest Classifier</td>\n",
       "      <td>0.701112</td>\n",
       "      <td>0.713213</td>\n",
       "      <td>0.685269</td>\n",
       "      <td>0.698951</td>\n",
       "      <td>0.764986</td>\n",
       "    </tr>\n",
       "  </tbody>\n",
       "</table>\n",
       "</div>"
      ],
      "text/plain": [
       "                      Model  Accuracy  Precision    Recall  F1 Score       AUC\n",
       "0  Decision Tree Classifier  0.692839   0.705123  0.672325  0.683914  0.747963\n",
       "1            KNN Classifier  0.703249   0.714990  0.688268  0.701370  0.766157\n",
       "2        Xgboost Classifier  0.702511   0.714076  0.687910  0.700743  0.766248\n",
       "3    Gaussian NB Classifier  0.665237   0.733607  0.532025  0.616761  0.737625\n",
       "4  Random Forest Classifier  0.701112   0.713213  0.685269  0.698951  0.764986"
      ]
     },
     "execution_count": 280,
     "metadata": {},
     "output_type": "execute_result"
    }
   ],
   "source": [
    "#with pp\n",
    "drop_list=['systolic', 'diastolic','map','cardio']\n",
    "X=df.drop(drop_list,axis=1)\n",
    "y=df['cardio']\n",
    "\n",
    "model_evaluation(X,y,dt,knn,xgb,nb,rf,drop_list)"
   ]
  },
  {
   "cell_type": "code",
   "execution_count": 281,
   "metadata": {},
   "outputs": [
    {
     "name": "stdout",
     "output_type": "stream",
     "text": [
      "pp,diastolic,map,cardio,"
     ]
    },
    {
     "data": {
      "text/html": [
       "<div>\n",
       "<style scoped>\n",
       "    .dataframe tbody tr th:only-of-type {\n",
       "        vertical-align: middle;\n",
       "    }\n",
       "\n",
       "    .dataframe tbody tr th {\n",
       "        vertical-align: top;\n",
       "    }\n",
       "\n",
       "    .dataframe thead th {\n",
       "        text-align: right;\n",
       "    }\n",
       "</style>\n",
       "<table border=\"1\" class=\"dataframe\">\n",
       "  <thead>\n",
       "    <tr style=\"text-align: right;\">\n",
       "      <th></th>\n",
       "      <th>Model</th>\n",
       "      <th>Accuracy</th>\n",
       "      <th>Precision</th>\n",
       "      <th>Recall</th>\n",
       "      <th>F1 Score</th>\n",
       "      <th>AUC</th>\n",
       "    </tr>\n",
       "  </thead>\n",
       "  <tbody>\n",
       "    <tr>\n",
       "      <td>0</td>\n",
       "      <td>Decision Tree Classifier</td>\n",
       "      <td>0.718734</td>\n",
       "      <td>0.740640</td>\n",
       "      <td>0.693843</td>\n",
       "      <td>0.713339</td>\n",
       "      <td>0.780053</td>\n",
       "    </tr>\n",
       "    <tr>\n",
       "      <td>1</td>\n",
       "      <td>KNN Classifier</td>\n",
       "      <td>0.731297</td>\n",
       "      <td>0.750500</td>\n",
       "      <td>0.703031</td>\n",
       "      <td>0.725984</td>\n",
       "      <td>0.797228</td>\n",
       "    </tr>\n",
       "    <tr>\n",
       "      <td>2</td>\n",
       "      <td>Xgboost Classifier</td>\n",
       "      <td>0.731297</td>\n",
       "      <td>0.750392</td>\n",
       "      <td>0.703284</td>\n",
       "      <td>0.726063</td>\n",
       "      <td>0.797452</td>\n",
       "    </tr>\n",
       "    <tr>\n",
       "      <td>3</td>\n",
       "      <td>Gaussian NB Classifier</td>\n",
       "      <td>0.696406</td>\n",
       "      <td>0.757880</td>\n",
       "      <td>0.588379</td>\n",
       "      <td>0.662456</td>\n",
       "      <td>0.766702</td>\n",
       "    </tr>\n",
       "    <tr>\n",
       "      <td>4</td>\n",
       "      <td>Random Forest Classifier</td>\n",
       "      <td>0.730452</td>\n",
       "      <td>0.752117</td>\n",
       "      <td>0.697627</td>\n",
       "      <td>0.723829</td>\n",
       "      <td>0.796514</td>\n",
       "    </tr>\n",
       "  </tbody>\n",
       "</table>\n",
       "</div>"
      ],
      "text/plain": [
       "                      Model  Accuracy  Precision    Recall  F1 Score       AUC\n",
       "0  Decision Tree Classifier  0.718734   0.740640  0.693843  0.713339  0.780053\n",
       "1            KNN Classifier  0.731297   0.750500  0.703031  0.725984  0.797228\n",
       "2        Xgboost Classifier  0.731297   0.750392  0.703284  0.726063  0.797452\n",
       "3    Gaussian NB Classifier  0.696406   0.757880  0.588379  0.662456  0.766702\n",
       "4  Random Forest Classifier  0.730452   0.752117  0.697627  0.723829  0.796514"
      ]
     },
     "execution_count": 281,
     "metadata": {},
     "output_type": "execute_result"
    }
   ],
   "source": [
    "drop_list=['pp', 'diastolic','map','cardio']\n",
    "X=df.drop(drop_list,axis=1)\n",
    "y=df['cardio']\n",
    "\n",
    "model_evaluation(X,y,dt,knn,xgb,nb,rf,drop_list)"
   ]
  }
 ],
 "metadata": {
  "kernelspec": {
   "display_name": "Python 3",
   "language": "python",
   "name": "python3"
  },
  "language_info": {
   "codemirror_mode": {
    "name": "ipython",
    "version": 3
   },
   "file_extension": ".py",
   "mimetype": "text/x-python",
   "name": "python",
   "nbconvert_exporter": "python",
   "pygments_lexer": "ipython3",
   "version": "3.7.4"
  }
 },
 "nbformat": 4,
 "nbformat_minor": 2
}
